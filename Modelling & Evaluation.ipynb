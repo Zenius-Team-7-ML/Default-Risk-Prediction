{
 "cells": [
  {
   "cell_type": "code",
   "execution_count": 16,
   "metadata": {},
   "outputs": [],
   "source": [
    "import os\n",
    "os.chdir('D:\\\\New\\\\SIB Zenius\\\\fp')"
   ]
  },
  {
   "cell_type": "code",
   "execution_count": 17,
   "metadata": {},
   "outputs": [
    {
     "data": {
      "text/plain": [
       "'D:\\\\New\\\\SIB Zenius\\\\fp'"
      ]
     },
     "execution_count": 17,
     "metadata": {},
     "output_type": "execute_result"
    }
   ],
   "source": [
    "os.getcwd()"
   ]
  },
  {
   "cell_type": "code",
   "execution_count": 1,
   "metadata": {},
   "outputs": [],
   "source": [
    "import pandas as pd\n",
    "import numpy as np\n",
    "import matplotlib.pyplot as plt\n",
    "import seaborn as sns\n",
    "from sklearn.preprocessing import OrdinalEncoder\n",
    "from sklearn.preprocessing import OneHotEncoder"
   ]
  },
  {
   "cell_type": "code",
   "execution_count": 2,
   "metadata": {},
   "outputs": [],
   "source": [
    "topdata = pd.read_csv(\"datamodel.csv\")"
   ]
  },
  {
   "cell_type": "code",
   "execution_count": 3,
   "metadata": {},
   "outputs": [
    {
     "data": {
      "text/plain": [
       "Index(['Unnamed: 0', 'EXT_SOURCE_2', 'EXT_SOURCE_3', 'YEARS_LAST_PHONE_CHANGE',\n",
       "       'REGION_RATING_CLIENT_W_CITY', 'YEARS_EMPLOYED', 'REGION_RATING_CLIENT',\n",
       "       'AMT_GOODS_PRICE', 'AMT_BALANCE_MEAN', 'AMT_CREDIT', 'DAYS_BIRTH',\n",
       "       'FLOORSMAX_MODE', 'NAME_EDUCATION_TYPE', 'CODE_GENDER',\n",
       "       'NAME_INCOME_TYPE', 'OCCUPATION_TYPE', 'ORGANIZATION_TYPE',\n",
       "       'FLAG_OWN_CAR', 'TARGET'],\n",
       "      dtype='object')"
      ]
     },
     "execution_count": 3,
     "metadata": {},
     "output_type": "execute_result"
    }
   ],
   "source": [
    "topdata.columns"
   ]
  },
  {
   "cell_type": "code",
   "execution_count": 4,
   "metadata": {},
   "outputs": [
    {
     "data": {
      "text/plain": [
       "(20991, 19)"
      ]
     },
     "execution_count": 4,
     "metadata": {},
     "output_type": "execute_result"
    }
   ],
   "source": [
    "topdata.shape"
   ]
  },
  {
   "cell_type": "code",
   "execution_count": 5,
   "metadata": {},
   "outputs": [
    {
     "data": {
      "text/html": [
       "<div>\n",
       "<style scoped>\n",
       "    .dataframe tbody tr th:only-of-type {\n",
       "        vertical-align: middle;\n",
       "    }\n",
       "\n",
       "    .dataframe tbody tr th {\n",
       "        vertical-align: top;\n",
       "    }\n",
       "\n",
       "    .dataframe thead th {\n",
       "        text-align: right;\n",
       "    }\n",
       "</style>\n",
       "<table border=\"1\" class=\"dataframe\">\n",
       "  <thead>\n",
       "    <tr style=\"text-align: right;\">\n",
       "      <th></th>\n",
       "      <th>Unnamed: 0</th>\n",
       "      <th>EXT_SOURCE_2</th>\n",
       "      <th>EXT_SOURCE_3</th>\n",
       "      <th>YEARS_LAST_PHONE_CHANGE</th>\n",
       "      <th>REGION_RATING_CLIENT_W_CITY</th>\n",
       "      <th>YEARS_EMPLOYED</th>\n",
       "      <th>REGION_RATING_CLIENT</th>\n",
       "      <th>AMT_GOODS_PRICE</th>\n",
       "      <th>AMT_BALANCE_MEAN</th>\n",
       "      <th>AMT_CREDIT</th>\n",
       "      <th>DAYS_BIRTH</th>\n",
       "      <th>FLOORSMAX_MODE</th>\n",
       "      <th>NAME_EDUCATION_TYPE</th>\n",
       "      <th>CODE_GENDER</th>\n",
       "      <th>NAME_INCOME_TYPE</th>\n",
       "      <th>OCCUPATION_TYPE</th>\n",
       "      <th>ORGANIZATION_TYPE</th>\n",
       "      <th>FLAG_OWN_CAR</th>\n",
       "      <th>TARGET</th>\n",
       "    </tr>\n",
       "  </thead>\n",
       "  <tbody>\n",
       "    <tr>\n",
       "      <th>0</th>\n",
       "      <td>0</td>\n",
       "      <td>0.686505</td>\n",
       "      <td>0.394495</td>\n",
       "      <td>2.747945</td>\n",
       "      <td>2</td>\n",
       "      <td>7.791781</td>\n",
       "      <td>2</td>\n",
       "      <td>450000.0</td>\n",
       "      <td>16901.607273</td>\n",
       "      <td>450000.0</td>\n",
       "      <td>12009</td>\n",
       "      <td>0.1667</td>\n",
       "      <td>Higher education</td>\n",
       "      <td>M</td>\n",
       "      <td>Commercial associate</td>\n",
       "      <td>Laborers</td>\n",
       "      <td>Business Entity Type 3</td>\n",
       "      <td>N</td>\n",
       "      <td>0</td>\n",
       "    </tr>\n",
       "    <tr>\n",
       "      <th>1</th>\n",
       "      <td>1</td>\n",
       "      <td>0.700274</td>\n",
       "      <td>0.071055</td>\n",
       "      <td>2.967123</td>\n",
       "      <td>1</td>\n",
       "      <td>18.457534</td>\n",
       "      <td>2</td>\n",
       "      <td>900000.0</td>\n",
       "      <td>178584.459545</td>\n",
       "      <td>900000.0</td>\n",
       "      <td>14751</td>\n",
       "      <td>0.3750</td>\n",
       "      <td>Higher education</td>\n",
       "      <td>F</td>\n",
       "      <td>Working</td>\n",
       "      <td>Core staff</td>\n",
       "      <td>Kindergarten</td>\n",
       "      <td>N</td>\n",
       "      <td>0</td>\n",
       "    </tr>\n",
       "    <tr>\n",
       "      <th>2</th>\n",
       "      <td>2</td>\n",
       "      <td>0.707972</td>\n",
       "      <td>0.452534</td>\n",
       "      <td>2.010959</td>\n",
       "      <td>1</td>\n",
       "      <td>3.202740</td>\n",
       "      <td>1</td>\n",
       "      <td>720000.0</td>\n",
       "      <td>239297.514375</td>\n",
       "      <td>891072.0</td>\n",
       "      <td>13830</td>\n",
       "      <td>0.4583</td>\n",
       "      <td>Secondary / secondary special</td>\n",
       "      <td>F</td>\n",
       "      <td>Commercial associate</td>\n",
       "      <td>Realty agents</td>\n",
       "      <td>Other</td>\n",
       "      <td>N</td>\n",
       "      <td>0</td>\n",
       "    </tr>\n",
       "    <tr>\n",
       "      <th>3</th>\n",
       "      <td>3</td>\n",
       "      <td>0.678125</td>\n",
       "      <td>0.683269</td>\n",
       "      <td>4.106849</td>\n",
       "      <td>2</td>\n",
       "      <td>9.369863</td>\n",
       "      <td>2</td>\n",
       "      <td>270000.0</td>\n",
       "      <td>71369.232632</td>\n",
       "      <td>270000.0</td>\n",
       "      <td>22881</td>\n",
       "      <td>0.4583</td>\n",
       "      <td>Higher education</td>\n",
       "      <td>M</td>\n",
       "      <td>State servant</td>\n",
       "      <td>Core staff</td>\n",
       "      <td>Government</td>\n",
       "      <td>N</td>\n",
       "      <td>0</td>\n",
       "    </tr>\n",
       "    <tr>\n",
       "      <th>4</th>\n",
       "      <td>4</td>\n",
       "      <td>0.746486</td>\n",
       "      <td>0.739412</td>\n",
       "      <td>4.882192</td>\n",
       "      <td>2</td>\n",
       "      <td>11.986301</td>\n",
       "      <td>2</td>\n",
       "      <td>198000.0</td>\n",
       "      <td>1614.429844</td>\n",
       "      <td>260725.5</td>\n",
       "      <td>16282</td>\n",
       "      <td>0.1667</td>\n",
       "      <td>Secondary / secondary special</td>\n",
       "      <td>F</td>\n",
       "      <td>Working</td>\n",
       "      <td>Laborers</td>\n",
       "      <td>Self-employed</td>\n",
       "      <td>Y</td>\n",
       "      <td>0</td>\n",
       "    </tr>\n",
       "  </tbody>\n",
       "</table>\n",
       "</div>"
      ],
      "text/plain": [
       "   Unnamed: 0  EXT_SOURCE_2  EXT_SOURCE_3  YEARS_LAST_PHONE_CHANGE  \\\n",
       "0           0      0.686505      0.394495                 2.747945   \n",
       "1           1      0.700274      0.071055                 2.967123   \n",
       "2           2      0.707972      0.452534                 2.010959   \n",
       "3           3      0.678125      0.683269                 4.106849   \n",
       "4           4      0.746486      0.739412                 4.882192   \n",
       "\n",
       "   REGION_RATING_CLIENT_W_CITY  YEARS_EMPLOYED  REGION_RATING_CLIENT  \\\n",
       "0                            2        7.791781                     2   \n",
       "1                            1       18.457534                     2   \n",
       "2                            1        3.202740                     1   \n",
       "3                            2        9.369863                     2   \n",
       "4                            2       11.986301                     2   \n",
       "\n",
       "   AMT_GOODS_PRICE  AMT_BALANCE_MEAN  AMT_CREDIT  DAYS_BIRTH  FLOORSMAX_MODE  \\\n",
       "0         450000.0      16901.607273    450000.0       12009          0.1667   \n",
       "1         900000.0     178584.459545    900000.0       14751          0.3750   \n",
       "2         720000.0     239297.514375    891072.0       13830          0.4583   \n",
       "3         270000.0      71369.232632    270000.0       22881          0.4583   \n",
       "4         198000.0       1614.429844    260725.5       16282          0.1667   \n",
       "\n",
       "             NAME_EDUCATION_TYPE CODE_GENDER      NAME_INCOME_TYPE  \\\n",
       "0               Higher education           M  Commercial associate   \n",
       "1               Higher education           F               Working   \n",
       "2  Secondary / secondary special           F  Commercial associate   \n",
       "3               Higher education           M         State servant   \n",
       "4  Secondary / secondary special           F               Working   \n",
       "\n",
       "  OCCUPATION_TYPE       ORGANIZATION_TYPE FLAG_OWN_CAR  TARGET  \n",
       "0        Laborers  Business Entity Type 3            N       0  \n",
       "1      Core staff            Kindergarten            N       0  \n",
       "2   Realty agents                   Other            N       0  \n",
       "3      Core staff              Government            N       0  \n",
       "4        Laborers           Self-employed            Y       0  "
      ]
     },
     "execution_count": 5,
     "metadata": {},
     "output_type": "execute_result"
    }
   ],
   "source": [
    "topdata.head()"
   ]
  },
  {
   "cell_type": "code",
   "execution_count": 5,
   "metadata": {},
   "outputs": [],
   "source": [
    "topdata = topdata.drop([\"Unnamed: 0\"], axis=1)"
   ]
  },
  {
   "cell_type": "code",
   "execution_count": 9,
   "metadata": {},
   "outputs": [
    {
     "data": {
      "text/html": [
       "<div>\n",
       "<style scoped>\n",
       "    .dataframe tbody tr th:only-of-type {\n",
       "        vertical-align: middle;\n",
       "    }\n",
       "\n",
       "    .dataframe tbody tr th {\n",
       "        vertical-align: top;\n",
       "    }\n",
       "\n",
       "    .dataframe thead th {\n",
       "        text-align: right;\n",
       "    }\n",
       "</style>\n",
       "<table border=\"1\" class=\"dataframe\">\n",
       "  <thead>\n",
       "    <tr style=\"text-align: right;\">\n",
       "      <th></th>\n",
       "      <th>EXT_SOURCE_2</th>\n",
       "      <th>EXT_SOURCE_3</th>\n",
       "      <th>YEARS_LAST_PHONE_CHANGE</th>\n",
       "      <th>REGION_RATING_CLIENT_W_CITY</th>\n",
       "      <th>YEARS_EMPLOYED</th>\n",
       "      <th>REGION_RATING_CLIENT</th>\n",
       "      <th>AMT_GOODS_PRICE</th>\n",
       "      <th>AMT_BALANCE_MEAN</th>\n",
       "      <th>AMT_CREDIT</th>\n",
       "      <th>DAYS_BIRTH</th>\n",
       "      <th>FLOORSMAX_MODE</th>\n",
       "      <th>NAME_EDUCATION_TYPE</th>\n",
       "      <th>CODE_GENDER</th>\n",
       "      <th>NAME_INCOME_TYPE</th>\n",
       "      <th>OCCUPATION_TYPE</th>\n",
       "      <th>ORGANIZATION_TYPE</th>\n",
       "      <th>FLAG_OWN_CAR</th>\n",
       "      <th>TARGET</th>\n",
       "    </tr>\n",
       "  </thead>\n",
       "  <tbody>\n",
       "    <tr>\n",
       "      <th>0</th>\n",
       "      <td>0.686505</td>\n",
       "      <td>0.394495</td>\n",
       "      <td>2.747945</td>\n",
       "      <td>2</td>\n",
       "      <td>7.791781</td>\n",
       "      <td>2</td>\n",
       "      <td>450000.0</td>\n",
       "      <td>16901.607273</td>\n",
       "      <td>450000.0</td>\n",
       "      <td>12009</td>\n",
       "      <td>0.1667</td>\n",
       "      <td>Higher education</td>\n",
       "      <td>M</td>\n",
       "      <td>Commercial associate</td>\n",
       "      <td>Laborers</td>\n",
       "      <td>Business Entity Type 3</td>\n",
       "      <td>N</td>\n",
       "      <td>0</td>\n",
       "    </tr>\n",
       "    <tr>\n",
       "      <th>1</th>\n",
       "      <td>0.700274</td>\n",
       "      <td>0.071055</td>\n",
       "      <td>2.967123</td>\n",
       "      <td>1</td>\n",
       "      <td>18.457534</td>\n",
       "      <td>2</td>\n",
       "      <td>900000.0</td>\n",
       "      <td>178584.459545</td>\n",
       "      <td>900000.0</td>\n",
       "      <td>14751</td>\n",
       "      <td>0.3750</td>\n",
       "      <td>Higher education</td>\n",
       "      <td>F</td>\n",
       "      <td>Working</td>\n",
       "      <td>Core staff</td>\n",
       "      <td>Kindergarten</td>\n",
       "      <td>N</td>\n",
       "      <td>0</td>\n",
       "    </tr>\n",
       "    <tr>\n",
       "      <th>2</th>\n",
       "      <td>0.707972</td>\n",
       "      <td>0.452534</td>\n",
       "      <td>2.010959</td>\n",
       "      <td>1</td>\n",
       "      <td>3.202740</td>\n",
       "      <td>1</td>\n",
       "      <td>720000.0</td>\n",
       "      <td>239297.514375</td>\n",
       "      <td>891072.0</td>\n",
       "      <td>13830</td>\n",
       "      <td>0.4583</td>\n",
       "      <td>Secondary / secondary special</td>\n",
       "      <td>F</td>\n",
       "      <td>Commercial associate</td>\n",
       "      <td>Realty agents</td>\n",
       "      <td>Other</td>\n",
       "      <td>N</td>\n",
       "      <td>0</td>\n",
       "    </tr>\n",
       "    <tr>\n",
       "      <th>3</th>\n",
       "      <td>0.678125</td>\n",
       "      <td>0.683269</td>\n",
       "      <td>4.106849</td>\n",
       "      <td>2</td>\n",
       "      <td>9.369863</td>\n",
       "      <td>2</td>\n",
       "      <td>270000.0</td>\n",
       "      <td>71369.232632</td>\n",
       "      <td>270000.0</td>\n",
       "      <td>22881</td>\n",
       "      <td>0.4583</td>\n",
       "      <td>Higher education</td>\n",
       "      <td>M</td>\n",
       "      <td>State servant</td>\n",
       "      <td>Core staff</td>\n",
       "      <td>Government</td>\n",
       "      <td>N</td>\n",
       "      <td>0</td>\n",
       "    </tr>\n",
       "    <tr>\n",
       "      <th>4</th>\n",
       "      <td>0.746486</td>\n",
       "      <td>0.739412</td>\n",
       "      <td>4.882192</td>\n",
       "      <td>2</td>\n",
       "      <td>11.986301</td>\n",
       "      <td>2</td>\n",
       "      <td>198000.0</td>\n",
       "      <td>1614.429844</td>\n",
       "      <td>260725.5</td>\n",
       "      <td>16282</td>\n",
       "      <td>0.1667</td>\n",
       "      <td>Secondary / secondary special</td>\n",
       "      <td>F</td>\n",
       "      <td>Working</td>\n",
       "      <td>Laborers</td>\n",
       "      <td>Self-employed</td>\n",
       "      <td>Y</td>\n",
       "      <td>0</td>\n",
       "    </tr>\n",
       "  </tbody>\n",
       "</table>\n",
       "</div>"
      ],
      "text/plain": [
       "   EXT_SOURCE_2  EXT_SOURCE_3  YEARS_LAST_PHONE_CHANGE  \\\n",
       "0      0.686505      0.394495                 2.747945   \n",
       "1      0.700274      0.071055                 2.967123   \n",
       "2      0.707972      0.452534                 2.010959   \n",
       "3      0.678125      0.683269                 4.106849   \n",
       "4      0.746486      0.739412                 4.882192   \n",
       "\n",
       "   REGION_RATING_CLIENT_W_CITY  YEARS_EMPLOYED  REGION_RATING_CLIENT  \\\n",
       "0                            2        7.791781                     2   \n",
       "1                            1       18.457534                     2   \n",
       "2                            1        3.202740                     1   \n",
       "3                            2        9.369863                     2   \n",
       "4                            2       11.986301                     2   \n",
       "\n",
       "   AMT_GOODS_PRICE  AMT_BALANCE_MEAN  AMT_CREDIT  DAYS_BIRTH  FLOORSMAX_MODE  \\\n",
       "0         450000.0      16901.607273    450000.0       12009          0.1667   \n",
       "1         900000.0     178584.459545    900000.0       14751          0.3750   \n",
       "2         720000.0     239297.514375    891072.0       13830          0.4583   \n",
       "3         270000.0      71369.232632    270000.0       22881          0.4583   \n",
       "4         198000.0       1614.429844    260725.5       16282          0.1667   \n",
       "\n",
       "             NAME_EDUCATION_TYPE CODE_GENDER      NAME_INCOME_TYPE  \\\n",
       "0               Higher education           M  Commercial associate   \n",
       "1               Higher education           F               Working   \n",
       "2  Secondary / secondary special           F  Commercial associate   \n",
       "3               Higher education           M         State servant   \n",
       "4  Secondary / secondary special           F               Working   \n",
       "\n",
       "  OCCUPATION_TYPE       ORGANIZATION_TYPE FLAG_OWN_CAR  TARGET  \n",
       "0        Laborers  Business Entity Type 3            N       0  \n",
       "1      Core staff            Kindergarten            N       0  \n",
       "2   Realty agents                   Other            N       0  \n",
       "3      Core staff              Government            N       0  \n",
       "4        Laborers           Self-employed            Y       0  "
      ]
     },
     "execution_count": 9,
     "metadata": {},
     "output_type": "execute_result"
    }
   ],
   "source": [
    "topdata.head()"
   ]
  },
  {
   "cell_type": "code",
   "execution_count": 6,
   "metadata": {},
   "outputs": [
    {
     "data": {
      "text/plain": [
       "0    18984\n",
       "1     2007\n",
       "Name: TARGET, dtype: int64"
      ]
     },
     "execution_count": 6,
     "metadata": {},
     "output_type": "execute_result"
    }
   ],
   "source": [
    "topdata[\"TARGET\"].value_counts()"
   ]
  },
  {
   "cell_type": "code",
   "execution_count": 11,
   "metadata": {
    "collapsed": true,
    "jupyter": {
     "outputs_hidden": true
    },
    "tags": []
   },
   "outputs": [
    {
     "ename": "NameError",
     "evalue": "name 'sns' is not defined",
     "output_type": "error",
     "traceback": [
      "\u001b[1;31m---------------------------------------------------------------------------\u001b[0m",
      "\u001b[1;31mNameError\u001b[0m                                 Traceback (most recent call last)",
      "Input \u001b[1;32mIn [11]\u001b[0m, in \u001b[0;36m<cell line: 1>\u001b[1;34m()\u001b[0m\n\u001b[1;32m----> 1\u001b[0m \u001b[43msns\u001b[49m\u001b[38;5;241m.\u001b[39mcountplot(x\u001b[38;5;241m=\u001b[39m\u001b[38;5;124m'\u001b[39m\u001b[38;5;124mTARGET\u001b[39m\u001b[38;5;124m'\u001b[39m, data\u001b[38;5;241m=\u001b[39mtopdata, palette\u001b[38;5;241m=\u001b[39m\u001b[38;5;124m\"\u001b[39m\u001b[38;5;124mSet1\u001b[39m\u001b[38;5;124m\"\u001b[39m)\n",
      "\u001b[1;31mNameError\u001b[0m: name 'sns' is not defined"
     ]
    }
   ],
   "source": [
    "sns.countplot(x='TARGET', data=topdata, palette=\"Set1\")"
   ]
  },
  {
   "cell_type": "markdown",
   "metadata": {},
   "source": [
    "## Handling Data Imbalance"
   ]
  },
  {
   "cell_type": "code",
   "execution_count": 7,
   "metadata": {},
   "outputs": [],
   "source": [
    "#oversample\n",
    "from sklearn.utils import resample\n",
    "\n",
    "#create two different dataframe of majority and minority class \n",
    "df_majority = topdata[(topdata['TARGET']==0)] \n",
    "df_minority = topdata[(topdata['TARGET']==1)] \n",
    "# upsample minority class\n",
    "df_minority_upsampled = resample(df_minority, \n",
    "                                 replace=True,    # sample with replacement\n",
    "                                 n_samples= 18984, # to match majority class\n",
    "                                 random_state=122)  # reproducible results\n",
    "# Combine majority class with upsampled minority class\n",
    "df_upsampled = pd.concat([df_minority_upsampled, df_majority])"
   ]
  },
  {
   "cell_type": "code",
   "execution_count": 8,
   "metadata": {},
   "outputs": [
    {
     "data": {
      "text/plain": [
       "1    18984\n",
       "0    18984\n",
       "Name: TARGET, dtype: int64"
      ]
     },
     "execution_count": 8,
     "metadata": {},
     "output_type": "execute_result"
    }
   ],
   "source": [
    "df_upsampled[\"TARGET\"].value_counts()"
   ]
  },
  {
   "cell_type": "code",
   "execution_count": 15,
   "metadata": {},
   "outputs": [
    {
     "data": {
      "text/plain": [
       "(37968, 18)"
      ]
     },
     "execution_count": 15,
     "metadata": {},
     "output_type": "execute_result"
    }
   ],
   "source": [
    "df_upsampled.shape"
   ]
  },
  {
   "cell_type": "code",
   "execution_count": 16,
   "metadata": {},
   "outputs": [
    {
     "data": {
      "text/plain": [
       "TARGET                         1.000000\n",
       "EXT_SOURCE_2                   0.254835\n",
       "EXT_SOURCE_3                   0.248493\n",
       "YEARS_LAST_PHONE_CHANGE        0.147262\n",
       "REGION_RATING_CLIENT_W_CITY    0.131960\n",
       "AMT_GOODS_PRICE                0.125837\n",
       "YEARS_EMPLOYED                 0.125149\n",
       "REGION_RATING_CLIENT           0.123375\n",
       "AMT_CREDIT                     0.107933\n",
       "AMT_BALANCE_MEAN               0.107850\n",
       "DAYS_BIRTH                     0.091634\n",
       "FLOORSMAX_MODE                 0.087715\n",
       "dtype: float64"
      ]
     },
     "execution_count": 16,
     "metadata": {},
     "output_type": "execute_result"
    }
   ],
   "source": [
    "corr = df_upsampled.corrwith(df_upsampled[\"TARGET\"]).abs().sort_values(ascending=False)\n",
    "corr_filter = corr[corr>0.0]\n",
    "corr_filter"
   ]
  },
  {
   "cell_type": "code",
   "execution_count": 17,
   "metadata": {},
   "outputs": [
    {
     "name": "stdout",
     "output_type": "stream",
     "text": [
      "<class 'pandas.core.frame.DataFrame'>\n",
      "Int64Index: 37968 entries, 16032 to 20990\n",
      "Data columns (total 18 columns):\n",
      " #   Column                       Non-Null Count  Dtype  \n",
      "---  ------                       --------------  -----  \n",
      " 0   EXT_SOURCE_2                 37968 non-null  float64\n",
      " 1   EXT_SOURCE_3                 37968 non-null  float64\n",
      " 2   YEARS_LAST_PHONE_CHANGE      37968 non-null  float64\n",
      " 3   REGION_RATING_CLIENT_W_CITY  37968 non-null  int64  \n",
      " 4   YEARS_EMPLOYED               37968 non-null  float64\n",
      " 5   REGION_RATING_CLIENT         37968 non-null  int64  \n",
      " 6   AMT_GOODS_PRICE              37968 non-null  float64\n",
      " 7   AMT_BALANCE_MEAN             37968 non-null  float64\n",
      " 8   AMT_CREDIT                   37968 non-null  float64\n",
      " 9   DAYS_BIRTH                   37968 non-null  int64  \n",
      " 10  FLOORSMAX_MODE               37968 non-null  float64\n",
      " 11  NAME_EDUCATION_TYPE          37968 non-null  object \n",
      " 12  CODE_GENDER                  37968 non-null  object \n",
      " 13  NAME_INCOME_TYPE             37968 non-null  object \n",
      " 14  OCCUPATION_TYPE              37968 non-null  object \n",
      " 15  ORGANIZATION_TYPE            37968 non-null  object \n",
      " 16  FLAG_OWN_CAR                 37968 non-null  object \n",
      " 17  TARGET                       37968 non-null  int64  \n",
      "dtypes: float64(8), int64(4), object(6)\n",
      "memory usage: 5.5+ MB\n"
     ]
    }
   ],
   "source": [
    "df_upsampled.info()"
   ]
  },
  {
   "cell_type": "markdown",
   "metadata": {
    "tags": []
   },
   "source": [
    "## ENCODING"
   ]
  },
  {
   "cell_type": "code",
   "execution_count": 9,
   "metadata": {},
   "outputs": [],
   "source": [
    "# defining feature matrix(X) and response vector(y)\n",
    "X = df_upsampled.loc[:, df_upsampled.columns != 'TARGET']\n",
    "y = df_upsampled[\"TARGET\"]\n",
    "\n",
    "# splitting X and y into training and testing sets\n",
    "from sklearn.model_selection import train_test_split\n",
    "X_train, X_test, y_train, y_test = train_test_split(X, y, test_size=0.3,\n",
    "                                                    random_state=42)"
   ]
  },
  {
   "cell_type": "code",
   "execution_count": 10,
   "metadata": {},
   "outputs": [
    {
     "name": "stdout",
     "output_type": "stream",
     "text": [
      "(26577, 17) (11391, 17)\n"
     ]
    }
   ],
   "source": [
    "print(X_train.shape, X_test.shape)"
   ]
  },
  {
   "cell_type": "code",
   "execution_count": 11,
   "metadata": {},
   "outputs": [],
   "source": [
    "from sklearn.compose import make_column_transformer\n",
    "from sklearn.pipeline import make_pipeline"
   ]
  },
  {
   "cell_type": "code",
   "execution_count": 12,
   "metadata": {},
   "outputs": [],
   "source": [
    "ore = OrdinalEncoder()"
   ]
  },
  {
   "cell_type": "code",
   "execution_count": 62,
   "metadata": {},
   "outputs": [
    {
     "data": {
      "text/html": [
       "<style>#sk-container-id-18 {color: black;background-color: white;}#sk-container-id-18 pre{padding: 0;}#sk-container-id-18 div.sk-toggleable {background-color: white;}#sk-container-id-18 label.sk-toggleable__label {cursor: pointer;display: block;width: 100%;margin-bottom: 0;padding: 0.3em;box-sizing: border-box;text-align: center;}#sk-container-id-18 label.sk-toggleable__label-arrow:before {content: \"▸\";float: left;margin-right: 0.25em;color: #696969;}#sk-container-id-18 label.sk-toggleable__label-arrow:hover:before {color: black;}#sk-container-id-18 div.sk-estimator:hover label.sk-toggleable__label-arrow:before {color: black;}#sk-container-id-18 div.sk-toggleable__content {max-height: 0;max-width: 0;overflow: hidden;text-align: left;background-color: #f0f8ff;}#sk-container-id-18 div.sk-toggleable__content pre {margin: 0.2em;color: black;border-radius: 0.25em;background-color: #f0f8ff;}#sk-container-id-18 input.sk-toggleable__control:checked~div.sk-toggleable__content {max-height: 200px;max-width: 100%;overflow: auto;}#sk-container-id-18 input.sk-toggleable__control:checked~label.sk-toggleable__label-arrow:before {content: \"▾\";}#sk-container-id-18 div.sk-estimator input.sk-toggleable__control:checked~label.sk-toggleable__label {background-color: #d4ebff;}#sk-container-id-18 div.sk-label input.sk-toggleable__control:checked~label.sk-toggleable__label {background-color: #d4ebff;}#sk-container-id-18 input.sk-hidden--visually {border: 0;clip: rect(1px 1px 1px 1px);clip: rect(1px, 1px, 1px, 1px);height: 1px;margin: -1px;overflow: hidden;padding: 0;position: absolute;width: 1px;}#sk-container-id-18 div.sk-estimator {font-family: monospace;background-color: #f0f8ff;border: 1px dotted black;border-radius: 0.25em;box-sizing: border-box;margin-bottom: 0.5em;}#sk-container-id-18 div.sk-estimator:hover {background-color: #d4ebff;}#sk-container-id-18 div.sk-parallel-item::after {content: \"\";width: 100%;border-bottom: 1px solid gray;flex-grow: 1;}#sk-container-id-18 div.sk-label:hover label.sk-toggleable__label {background-color: #d4ebff;}#sk-container-id-18 div.sk-serial::before {content: \"\";position: absolute;border-left: 1px solid gray;box-sizing: border-box;top: 0;bottom: 0;left: 50%;z-index: 0;}#sk-container-id-18 div.sk-serial {display: flex;flex-direction: column;align-items: center;background-color: white;padding-right: 0.2em;padding-left: 0.2em;position: relative;}#sk-container-id-18 div.sk-item {position: relative;z-index: 1;}#sk-container-id-18 div.sk-parallel {display: flex;align-items: stretch;justify-content: center;background-color: white;position: relative;}#sk-container-id-18 div.sk-item::before, #sk-container-id-18 div.sk-parallel-item::before {content: \"\";position: absolute;border-left: 1px solid gray;box-sizing: border-box;top: 0;bottom: 0;left: 50%;z-index: -1;}#sk-container-id-18 div.sk-parallel-item {display: flex;flex-direction: column;z-index: 1;position: relative;background-color: white;}#sk-container-id-18 div.sk-parallel-item:first-child::after {align-self: flex-end;width: 50%;}#sk-container-id-18 div.sk-parallel-item:last-child::after {align-self: flex-start;width: 50%;}#sk-container-id-18 div.sk-parallel-item:only-child::after {width: 0;}#sk-container-id-18 div.sk-dashed-wrapped {border: 1px dashed gray;margin: 0 0.4em 0.5em 0.4em;box-sizing: border-box;padding-bottom: 0.4em;background-color: white;}#sk-container-id-18 div.sk-label label {font-family: monospace;font-weight: bold;display: inline-block;line-height: 1.2em;}#sk-container-id-18 div.sk-label-container {text-align: center;}#sk-container-id-18 div.sk-container {/* jupyter's `normalize.less` sets `[hidden] { display: none; }` but bootstrap.min.css set `[hidden] { display: none !important; }` so we also need the `!important` here to be able to override the default hidden behavior on the sphinx rendered scikit-learn.org. See: https://github.com/scikit-learn/scikit-learn/issues/21755 */display: inline-block !important;position: relative;}#sk-container-id-18 div.sk-text-repr-fallback {display: none;}</style><div id=\"sk-container-id-18\" class=\"sk-top-container\"><div class=\"sk-text-repr-fallback\"><pre>OrdinalEncoder()</pre><b>In a Jupyter environment, please rerun this cell to show the HTML representation or trust the notebook. <br />On GitHub, the HTML representation is unable to render, please try loading this page with nbviewer.org.</b></div><div class=\"sk-container\" hidden><div class=\"sk-item\"><div class=\"sk-estimator sk-toggleable\"><input class=\"sk-toggleable__control sk-hidden--visually\" id=\"sk-estimator-id-111\" type=\"checkbox\" checked><label for=\"sk-estimator-id-111\" class=\"sk-toggleable__label sk-toggleable__label-arrow\">OrdinalEncoder</label><div class=\"sk-toggleable__content\"><pre>OrdinalEncoder()</pre></div></div></div></div></div>"
      ],
      "text/plain": [
       "OrdinalEncoder()"
      ]
     },
     "execution_count": 62,
     "metadata": {},
     "output_type": "execute_result"
    }
   ],
   "source": [
    "ore.fit(X[[\"CODE_GENDER\", \"NAME_INCOME_TYPE\", \"OCCUPATION_TYPE\", \"ORGANIZATION_TYPE\", \"FLAG_OWN_CAR\"]])"
   ]
  },
  {
   "cell_type": "code",
   "execution_count": 76,
   "metadata": {},
   "outputs": [],
   "source": [
    "ordinal_trans = make_column_transformer((OrdinalEncoder(categories = ore.categories_),[\"CODE_GENDER\", \"NAME_INCOME_TYPE\", \"OCCUPATION_TYPE\", \"ORGANIZATION_TYPE\", \"FLAG_OWN_CAR\"]))"
   ]
  },
  {
   "cell_type": "code",
   "execution_count": 64,
   "metadata": {},
   "outputs": [
    {
     "data": {
      "text/html": [
       "<style>#sk-container-id-19 {color: black;background-color: white;}#sk-container-id-19 pre{padding: 0;}#sk-container-id-19 div.sk-toggleable {background-color: white;}#sk-container-id-19 label.sk-toggleable__label {cursor: pointer;display: block;width: 100%;margin-bottom: 0;padding: 0.3em;box-sizing: border-box;text-align: center;}#sk-container-id-19 label.sk-toggleable__label-arrow:before {content: \"▸\";float: left;margin-right: 0.25em;color: #696969;}#sk-container-id-19 label.sk-toggleable__label-arrow:hover:before {color: black;}#sk-container-id-19 div.sk-estimator:hover label.sk-toggleable__label-arrow:before {color: black;}#sk-container-id-19 div.sk-toggleable__content {max-height: 0;max-width: 0;overflow: hidden;text-align: left;background-color: #f0f8ff;}#sk-container-id-19 div.sk-toggleable__content pre {margin: 0.2em;color: black;border-radius: 0.25em;background-color: #f0f8ff;}#sk-container-id-19 input.sk-toggleable__control:checked~div.sk-toggleable__content {max-height: 200px;max-width: 100%;overflow: auto;}#sk-container-id-19 input.sk-toggleable__control:checked~label.sk-toggleable__label-arrow:before {content: \"▾\";}#sk-container-id-19 div.sk-estimator input.sk-toggleable__control:checked~label.sk-toggleable__label {background-color: #d4ebff;}#sk-container-id-19 div.sk-label input.sk-toggleable__control:checked~label.sk-toggleable__label {background-color: #d4ebff;}#sk-container-id-19 input.sk-hidden--visually {border: 0;clip: rect(1px 1px 1px 1px);clip: rect(1px, 1px, 1px, 1px);height: 1px;margin: -1px;overflow: hidden;padding: 0;position: absolute;width: 1px;}#sk-container-id-19 div.sk-estimator {font-family: monospace;background-color: #f0f8ff;border: 1px dotted black;border-radius: 0.25em;box-sizing: border-box;margin-bottom: 0.5em;}#sk-container-id-19 div.sk-estimator:hover {background-color: #d4ebff;}#sk-container-id-19 div.sk-parallel-item::after {content: \"\";width: 100%;border-bottom: 1px solid gray;flex-grow: 1;}#sk-container-id-19 div.sk-label:hover label.sk-toggleable__label {background-color: #d4ebff;}#sk-container-id-19 div.sk-serial::before {content: \"\";position: absolute;border-left: 1px solid gray;box-sizing: border-box;top: 0;bottom: 0;left: 50%;z-index: 0;}#sk-container-id-19 div.sk-serial {display: flex;flex-direction: column;align-items: center;background-color: white;padding-right: 0.2em;padding-left: 0.2em;position: relative;}#sk-container-id-19 div.sk-item {position: relative;z-index: 1;}#sk-container-id-19 div.sk-parallel {display: flex;align-items: stretch;justify-content: center;background-color: white;position: relative;}#sk-container-id-19 div.sk-item::before, #sk-container-id-19 div.sk-parallel-item::before {content: \"\";position: absolute;border-left: 1px solid gray;box-sizing: border-box;top: 0;bottom: 0;left: 50%;z-index: -1;}#sk-container-id-19 div.sk-parallel-item {display: flex;flex-direction: column;z-index: 1;position: relative;background-color: white;}#sk-container-id-19 div.sk-parallel-item:first-child::after {align-self: flex-end;width: 50%;}#sk-container-id-19 div.sk-parallel-item:last-child::after {align-self: flex-start;width: 50%;}#sk-container-id-19 div.sk-parallel-item:only-child::after {width: 0;}#sk-container-id-19 div.sk-dashed-wrapped {border: 1px dashed gray;margin: 0 0.4em 0.5em 0.4em;box-sizing: border-box;padding-bottom: 0.4em;background-color: white;}#sk-container-id-19 div.sk-label label {font-family: monospace;font-weight: bold;display: inline-block;line-height: 1.2em;}#sk-container-id-19 div.sk-label-container {text-align: center;}#sk-container-id-19 div.sk-container {/* jupyter's `normalize.less` sets `[hidden] { display: none; }` but bootstrap.min.css set `[hidden] { display: none !important; }` so we also need the `!important` here to be able to override the default hidden behavior on the sphinx rendered scikit-learn.org. See: https://github.com/scikit-learn/scikit-learn/issues/21755 */display: inline-block !important;position: relative;}#sk-container-id-19 div.sk-text-repr-fallback {display: none;}</style><div id=\"sk-container-id-19\" class=\"sk-top-container\"><div class=\"sk-text-repr-fallback\"><pre>ColumnTransformer(remainder=&#x27;passtrough&#x27;,\n",
       "                  transformers=[(&#x27;ordinalencoder&#x27;,\n",
       "                                 OrdinalEncoder(categories=[array([&#x27;F&#x27;, &#x27;M&#x27;], dtype=object),\n",
       "                                                            array([&#x27;Commercial associate&#x27;, &#x27;State servant&#x27;, &#x27;Working&#x27;], dtype=object),\n",
       "                                                            array([&#x27;Accountants&#x27;, &#x27;Cleaning staff&#x27;, &#x27;Cooking staff&#x27;, &#x27;Core staff&#x27;,\n",
       "       &#x27;Drivers&#x27;, &#x27;HR staff&#x27;, &#x27;High skill tech staff&#x27;, &#x27;IT staff&#x27;,\n",
       "       &#x27;Laborers&#x27;, &#x27;Low-skill Laborers&#x27;, &#x27;Mana...\n",
       "       &#x27;Security Ministries&#x27;, &#x27;Self-employed&#x27;, &#x27;Services&#x27;, &#x27;Telecom&#x27;,\n",
       "       &#x27;Trade: type 1&#x27;, &#x27;Trade: type 2&#x27;, &#x27;Trade: type 3&#x27;, &#x27;Trade: type 4&#x27;,\n",
       "       &#x27;Trade: type 5&#x27;, &#x27;Trade: type 6&#x27;, &#x27;Trade: type 7&#x27;,\n",
       "       &#x27;Transport: type 1&#x27;, &#x27;Transport: type 2&#x27;, &#x27;Transport: type 3&#x27;,\n",
       "       &#x27;Transport: type 4&#x27;, &#x27;University&#x27;], dtype=object),\n",
       "                                                            array([&#x27;N&#x27;, &#x27;Y&#x27;], dtype=object)]),\n",
       "                                 [&#x27;CODE_GENDER&#x27;, &#x27;NAME_INCOME_TYPE&#x27;,\n",
       "                                  &#x27;OCCUPATION_TYPE&#x27;, &#x27;ORGANIZATION_TYPE&#x27;,\n",
       "                                  &#x27;FLAG_OWN_CAR&#x27;])])</pre><b>In a Jupyter environment, please rerun this cell to show the HTML representation or trust the notebook. <br />On GitHub, the HTML representation is unable to render, please try loading this page with nbviewer.org.</b></div><div class=\"sk-container\" hidden><div class=\"sk-item sk-dashed-wrapped\"><div class=\"sk-label-container\"><div class=\"sk-label sk-toggleable\"><input class=\"sk-toggleable__control sk-hidden--visually\" id=\"sk-estimator-id-112\" type=\"checkbox\" ><label for=\"sk-estimator-id-112\" class=\"sk-toggleable__label sk-toggleable__label-arrow\">ColumnTransformer</label><div class=\"sk-toggleable__content\"><pre>ColumnTransformer(remainder=&#x27;passtrough&#x27;,\n",
       "                  transformers=[(&#x27;ordinalencoder&#x27;,\n",
       "                                 OrdinalEncoder(categories=[array([&#x27;F&#x27;, &#x27;M&#x27;], dtype=object),\n",
       "                                                            array([&#x27;Commercial associate&#x27;, &#x27;State servant&#x27;, &#x27;Working&#x27;], dtype=object),\n",
       "                                                            array([&#x27;Accountants&#x27;, &#x27;Cleaning staff&#x27;, &#x27;Cooking staff&#x27;, &#x27;Core staff&#x27;,\n",
       "       &#x27;Drivers&#x27;, &#x27;HR staff&#x27;, &#x27;High skill tech staff&#x27;, &#x27;IT staff&#x27;,\n",
       "       &#x27;Laborers&#x27;, &#x27;Low-skill Laborers&#x27;, &#x27;Mana...\n",
       "       &#x27;Security Ministries&#x27;, &#x27;Self-employed&#x27;, &#x27;Services&#x27;, &#x27;Telecom&#x27;,\n",
       "       &#x27;Trade: type 1&#x27;, &#x27;Trade: type 2&#x27;, &#x27;Trade: type 3&#x27;, &#x27;Trade: type 4&#x27;,\n",
       "       &#x27;Trade: type 5&#x27;, &#x27;Trade: type 6&#x27;, &#x27;Trade: type 7&#x27;,\n",
       "       &#x27;Transport: type 1&#x27;, &#x27;Transport: type 2&#x27;, &#x27;Transport: type 3&#x27;,\n",
       "       &#x27;Transport: type 4&#x27;, &#x27;University&#x27;], dtype=object),\n",
       "                                                            array([&#x27;N&#x27;, &#x27;Y&#x27;], dtype=object)]),\n",
       "                                 [&#x27;CODE_GENDER&#x27;, &#x27;NAME_INCOME_TYPE&#x27;,\n",
       "                                  &#x27;OCCUPATION_TYPE&#x27;, &#x27;ORGANIZATION_TYPE&#x27;,\n",
       "                                  &#x27;FLAG_OWN_CAR&#x27;])])</pre></div></div></div><div class=\"sk-parallel\"><div class=\"sk-parallel-item\"><div class=\"sk-item\"><div class=\"sk-label-container\"><div class=\"sk-label sk-toggleable\"><input class=\"sk-toggleable__control sk-hidden--visually\" id=\"sk-estimator-id-113\" type=\"checkbox\" ><label for=\"sk-estimator-id-113\" class=\"sk-toggleable__label sk-toggleable__label-arrow\">ordinalencoder</label><div class=\"sk-toggleable__content\"><pre>[&#x27;CODE_GENDER&#x27;, &#x27;NAME_INCOME_TYPE&#x27;, &#x27;OCCUPATION_TYPE&#x27;, &#x27;ORGANIZATION_TYPE&#x27;, &#x27;FLAG_OWN_CAR&#x27;]</pre></div></div></div><div class=\"sk-serial\"><div class=\"sk-item\"><div class=\"sk-estimator sk-toggleable\"><input class=\"sk-toggleable__control sk-hidden--visually\" id=\"sk-estimator-id-114\" type=\"checkbox\" ><label for=\"sk-estimator-id-114\" class=\"sk-toggleable__label sk-toggleable__label-arrow\">OrdinalEncoder</label><div class=\"sk-toggleable__content\"><pre>OrdinalEncoder(categories=[array([&#x27;F&#x27;, &#x27;M&#x27;], dtype=object),\n",
       "                           array([&#x27;Commercial associate&#x27;, &#x27;State servant&#x27;, &#x27;Working&#x27;], dtype=object),\n",
       "                           array([&#x27;Accountants&#x27;, &#x27;Cleaning staff&#x27;, &#x27;Cooking staff&#x27;, &#x27;Core staff&#x27;,\n",
       "       &#x27;Drivers&#x27;, &#x27;HR staff&#x27;, &#x27;High skill tech staff&#x27;, &#x27;IT staff&#x27;,\n",
       "       &#x27;Laborers&#x27;, &#x27;Low-skill Laborers&#x27;, &#x27;Managers&#x27;, &#x27;Medicine staff&#x27;,\n",
       "       &#x27;Private service staff&#x27;, &#x27;Realty agents&#x27;, &#x27;Sales staff&#x27;,\n",
       "       &#x27;...\n",
       "       &#x27;Military&#x27;, &#x27;Mobile&#x27;, &#x27;Other&#x27;, &#x27;Police&#x27;, &#x27;Postal&#x27;, &#x27;Realtor&#x27;,\n",
       "       &#x27;Religion&#x27;, &#x27;Restaurant&#x27;, &#x27;School&#x27;, &#x27;Security&#x27;,\n",
       "       &#x27;Security Ministries&#x27;, &#x27;Self-employed&#x27;, &#x27;Services&#x27;, &#x27;Telecom&#x27;,\n",
       "       &#x27;Trade: type 1&#x27;, &#x27;Trade: type 2&#x27;, &#x27;Trade: type 3&#x27;, &#x27;Trade: type 4&#x27;,\n",
       "       &#x27;Trade: type 5&#x27;, &#x27;Trade: type 6&#x27;, &#x27;Trade: type 7&#x27;,\n",
       "       &#x27;Transport: type 1&#x27;, &#x27;Transport: type 2&#x27;, &#x27;Transport: type 3&#x27;,\n",
       "       &#x27;Transport: type 4&#x27;, &#x27;University&#x27;], dtype=object),\n",
       "                           array([&#x27;N&#x27;, &#x27;Y&#x27;], dtype=object)])</pre></div></div></div></div></div></div><div class=\"sk-parallel-item\"><div class=\"sk-item\"><div class=\"sk-label-container\"><div class=\"sk-label sk-toggleable\"><input class=\"sk-toggleable__control sk-hidden--visually\" id=\"sk-estimator-id-115\" type=\"checkbox\" ><label for=\"sk-estimator-id-115\" class=\"sk-toggleable__label sk-toggleable__label-arrow\">remainder</label><div class=\"sk-toggleable__content\"><pre></pre></div></div></div><div class=\"sk-serial\"><div class=\"sk-item\"><div class=\"sk-estimator sk-toggleable\"><input class=\"sk-toggleable__control sk-hidden--visually\" id=\"sk-estimator-id-116\" type=\"checkbox\" ><label for=\"sk-estimator-id-116\" class=\"sk-toggleable__label sk-toggleable__label-arrow\">passtrough</label><div class=\"sk-toggleable__content\"><pre>passtrough</pre></div></div></div></div></div></div></div></div></div></div>"
      ],
      "text/plain": [
       "ColumnTransformer(remainder='passtrough',\n",
       "                  transformers=[('ordinalencoder',\n",
       "                                 OrdinalEncoder(categories=[array(['F', 'M'], dtype=object),\n",
       "                                                            array(['Commercial associate', 'State servant', 'Working'], dtype=object),\n",
       "                                                            array(['Accountants', 'Cleaning staff', 'Cooking staff', 'Core staff',\n",
       "       'Drivers', 'HR staff', 'High skill tech staff', 'IT staff',\n",
       "       'Laborers', 'Low-skill Laborers', 'Mana...\n",
       "       'Security Ministries', 'Self-employed', 'Services', 'Telecom',\n",
       "       'Trade: type 1', 'Trade: type 2', 'Trade: type 3', 'Trade: type 4',\n",
       "       'Trade: type 5', 'Trade: type 6', 'Trade: type 7',\n",
       "       'Transport: type 1', 'Transport: type 2', 'Transport: type 3',\n",
       "       'Transport: type 4', 'University'], dtype=object),\n",
       "                                                            array(['N', 'Y'], dtype=object)]),\n",
       "                                 ['CODE_GENDER', 'NAME_INCOME_TYPE',\n",
       "                                  'OCCUPATION_TYPE', 'ORGANIZATION_TYPE',\n",
       "                                  'FLAG_OWN_CAR'])])"
      ]
     },
     "execution_count": 64,
     "metadata": {},
     "output_type": "execute_result"
    }
   ],
   "source": [
    "ordinal_trans"
   ]
  },
  {
   "cell_type": "code",
   "execution_count": 16,
   "metadata": {},
   "outputs": [],
   "source": [
    "ohe = OneHotEncoder()"
   ]
  },
  {
   "cell_type": "code",
   "execution_count": 17,
   "metadata": {},
   "outputs": [
    {
     "data": {
      "text/html": [
       "<style>#sk-container-id-3 {color: black;background-color: white;}#sk-container-id-3 pre{padding: 0;}#sk-container-id-3 div.sk-toggleable {background-color: white;}#sk-container-id-3 label.sk-toggleable__label {cursor: pointer;display: block;width: 100%;margin-bottom: 0;padding: 0.3em;box-sizing: border-box;text-align: center;}#sk-container-id-3 label.sk-toggleable__label-arrow:before {content: \"▸\";float: left;margin-right: 0.25em;color: #696969;}#sk-container-id-3 label.sk-toggleable__label-arrow:hover:before {color: black;}#sk-container-id-3 div.sk-estimator:hover label.sk-toggleable__label-arrow:before {color: black;}#sk-container-id-3 div.sk-toggleable__content {max-height: 0;max-width: 0;overflow: hidden;text-align: left;background-color: #f0f8ff;}#sk-container-id-3 div.sk-toggleable__content pre {margin: 0.2em;color: black;border-radius: 0.25em;background-color: #f0f8ff;}#sk-container-id-3 input.sk-toggleable__control:checked~div.sk-toggleable__content {max-height: 200px;max-width: 100%;overflow: auto;}#sk-container-id-3 input.sk-toggleable__control:checked~label.sk-toggleable__label-arrow:before {content: \"▾\";}#sk-container-id-3 div.sk-estimator input.sk-toggleable__control:checked~label.sk-toggleable__label {background-color: #d4ebff;}#sk-container-id-3 div.sk-label input.sk-toggleable__control:checked~label.sk-toggleable__label {background-color: #d4ebff;}#sk-container-id-3 input.sk-hidden--visually {border: 0;clip: rect(1px 1px 1px 1px);clip: rect(1px, 1px, 1px, 1px);height: 1px;margin: -1px;overflow: hidden;padding: 0;position: absolute;width: 1px;}#sk-container-id-3 div.sk-estimator {font-family: monospace;background-color: #f0f8ff;border: 1px dotted black;border-radius: 0.25em;box-sizing: border-box;margin-bottom: 0.5em;}#sk-container-id-3 div.sk-estimator:hover {background-color: #d4ebff;}#sk-container-id-3 div.sk-parallel-item::after {content: \"\";width: 100%;border-bottom: 1px solid gray;flex-grow: 1;}#sk-container-id-3 div.sk-label:hover label.sk-toggleable__label {background-color: #d4ebff;}#sk-container-id-3 div.sk-serial::before {content: \"\";position: absolute;border-left: 1px solid gray;box-sizing: border-box;top: 0;bottom: 0;left: 50%;z-index: 0;}#sk-container-id-3 div.sk-serial {display: flex;flex-direction: column;align-items: center;background-color: white;padding-right: 0.2em;padding-left: 0.2em;position: relative;}#sk-container-id-3 div.sk-item {position: relative;z-index: 1;}#sk-container-id-3 div.sk-parallel {display: flex;align-items: stretch;justify-content: center;background-color: white;position: relative;}#sk-container-id-3 div.sk-item::before, #sk-container-id-3 div.sk-parallel-item::before {content: \"\";position: absolute;border-left: 1px solid gray;box-sizing: border-box;top: 0;bottom: 0;left: 50%;z-index: -1;}#sk-container-id-3 div.sk-parallel-item {display: flex;flex-direction: column;z-index: 1;position: relative;background-color: white;}#sk-container-id-3 div.sk-parallel-item:first-child::after {align-self: flex-end;width: 50%;}#sk-container-id-3 div.sk-parallel-item:last-child::after {align-self: flex-start;width: 50%;}#sk-container-id-3 div.sk-parallel-item:only-child::after {width: 0;}#sk-container-id-3 div.sk-dashed-wrapped {border: 1px dashed gray;margin: 0 0.4em 0.5em 0.4em;box-sizing: border-box;padding-bottom: 0.4em;background-color: white;}#sk-container-id-3 div.sk-label label {font-family: monospace;font-weight: bold;display: inline-block;line-height: 1.2em;}#sk-container-id-3 div.sk-label-container {text-align: center;}#sk-container-id-3 div.sk-container {/* jupyter's `normalize.less` sets `[hidden] { display: none; }` but bootstrap.min.css set `[hidden] { display: none !important; }` so we also need the `!important` here to be able to override the default hidden behavior on the sphinx rendered scikit-learn.org. See: https://github.com/scikit-learn/scikit-learn/issues/21755 */display: inline-block !important;position: relative;}#sk-container-id-3 div.sk-text-repr-fallback {display: none;}</style><div id=\"sk-container-id-3\" class=\"sk-top-container\"><div class=\"sk-text-repr-fallback\"><pre>OneHotEncoder()</pre><b>In a Jupyter environment, please rerun this cell to show the HTML representation or trust the notebook. <br />On GitHub, the HTML representation is unable to render, please try loading this page with nbviewer.org.</b></div><div class=\"sk-container\" hidden><div class=\"sk-item\"><div class=\"sk-estimator sk-toggleable\"><input class=\"sk-toggleable__control sk-hidden--visually\" id=\"sk-estimator-id-7\" type=\"checkbox\" checked><label for=\"sk-estimator-id-7\" class=\"sk-toggleable__label sk-toggleable__label-arrow\">OneHotEncoder</label><div class=\"sk-toggleable__content\"><pre>OneHotEncoder()</pre></div></div></div></div></div>"
      ],
      "text/plain": [
       "OneHotEncoder()"
      ]
     },
     "execution_count": 17,
     "metadata": {},
     "output_type": "execute_result"
    }
   ],
   "source": [
    "ohe"
   ]
  },
  {
   "cell_type": "code",
   "execution_count": 82,
   "metadata": {},
   "outputs": [
    {
     "data": {
      "text/html": [
       "<style>#sk-container-id-23 {color: black;background-color: white;}#sk-container-id-23 pre{padding: 0;}#sk-container-id-23 div.sk-toggleable {background-color: white;}#sk-container-id-23 label.sk-toggleable__label {cursor: pointer;display: block;width: 100%;margin-bottom: 0;padding: 0.3em;box-sizing: border-box;text-align: center;}#sk-container-id-23 label.sk-toggleable__label-arrow:before {content: \"▸\";float: left;margin-right: 0.25em;color: #696969;}#sk-container-id-23 label.sk-toggleable__label-arrow:hover:before {color: black;}#sk-container-id-23 div.sk-estimator:hover label.sk-toggleable__label-arrow:before {color: black;}#sk-container-id-23 div.sk-toggleable__content {max-height: 0;max-width: 0;overflow: hidden;text-align: left;background-color: #f0f8ff;}#sk-container-id-23 div.sk-toggleable__content pre {margin: 0.2em;color: black;border-radius: 0.25em;background-color: #f0f8ff;}#sk-container-id-23 input.sk-toggleable__control:checked~div.sk-toggleable__content {max-height: 200px;max-width: 100%;overflow: auto;}#sk-container-id-23 input.sk-toggleable__control:checked~label.sk-toggleable__label-arrow:before {content: \"▾\";}#sk-container-id-23 div.sk-estimator input.sk-toggleable__control:checked~label.sk-toggleable__label {background-color: #d4ebff;}#sk-container-id-23 div.sk-label input.sk-toggleable__control:checked~label.sk-toggleable__label {background-color: #d4ebff;}#sk-container-id-23 input.sk-hidden--visually {border: 0;clip: rect(1px 1px 1px 1px);clip: rect(1px, 1px, 1px, 1px);height: 1px;margin: -1px;overflow: hidden;padding: 0;position: absolute;width: 1px;}#sk-container-id-23 div.sk-estimator {font-family: monospace;background-color: #f0f8ff;border: 1px dotted black;border-radius: 0.25em;box-sizing: border-box;margin-bottom: 0.5em;}#sk-container-id-23 div.sk-estimator:hover {background-color: #d4ebff;}#sk-container-id-23 div.sk-parallel-item::after {content: \"\";width: 100%;border-bottom: 1px solid gray;flex-grow: 1;}#sk-container-id-23 div.sk-label:hover label.sk-toggleable__label {background-color: #d4ebff;}#sk-container-id-23 div.sk-serial::before {content: \"\";position: absolute;border-left: 1px solid gray;box-sizing: border-box;top: 0;bottom: 0;left: 50%;z-index: 0;}#sk-container-id-23 div.sk-serial {display: flex;flex-direction: column;align-items: center;background-color: white;padding-right: 0.2em;padding-left: 0.2em;position: relative;}#sk-container-id-23 div.sk-item {position: relative;z-index: 1;}#sk-container-id-23 div.sk-parallel {display: flex;align-items: stretch;justify-content: center;background-color: white;position: relative;}#sk-container-id-23 div.sk-item::before, #sk-container-id-23 div.sk-parallel-item::before {content: \"\";position: absolute;border-left: 1px solid gray;box-sizing: border-box;top: 0;bottom: 0;left: 50%;z-index: -1;}#sk-container-id-23 div.sk-parallel-item {display: flex;flex-direction: column;z-index: 1;position: relative;background-color: white;}#sk-container-id-23 div.sk-parallel-item:first-child::after {align-self: flex-end;width: 50%;}#sk-container-id-23 div.sk-parallel-item:last-child::after {align-self: flex-start;width: 50%;}#sk-container-id-23 div.sk-parallel-item:only-child::after {width: 0;}#sk-container-id-23 div.sk-dashed-wrapped {border: 1px dashed gray;margin: 0 0.4em 0.5em 0.4em;box-sizing: border-box;padding-bottom: 0.4em;background-color: white;}#sk-container-id-23 div.sk-label label {font-family: monospace;font-weight: bold;display: inline-block;line-height: 1.2em;}#sk-container-id-23 div.sk-label-container {text-align: center;}#sk-container-id-23 div.sk-container {/* jupyter's `normalize.less` sets `[hidden] { display: none; }` but bootstrap.min.css set `[hidden] { display: none !important; }` so we also need the `!important` here to be able to override the default hidden behavior on the sphinx rendered scikit-learn.org. See: https://github.com/scikit-learn/scikit-learn/issues/21755 */display: inline-block !important;position: relative;}#sk-container-id-23 div.sk-text-repr-fallback {display: none;}</style><div id=\"sk-container-id-23\" class=\"sk-top-container\"><div class=\"sk-text-repr-fallback\"><pre>OneHotEncoder()</pre><b>In a Jupyter environment, please rerun this cell to show the HTML representation or trust the notebook. <br />On GitHub, the HTML representation is unable to render, please try loading this page with nbviewer.org.</b></div><div class=\"sk-container\" hidden><div class=\"sk-item\"><div class=\"sk-estimator sk-toggleable\"><input class=\"sk-toggleable__control sk-hidden--visually\" id=\"sk-estimator-id-136\" type=\"checkbox\" checked><label for=\"sk-estimator-id-136\" class=\"sk-toggleable__label sk-toggleable__label-arrow\">OneHotEncoder</label><div class=\"sk-toggleable__content\"><pre>OneHotEncoder()</pre></div></div></div></div></div>"
      ],
      "text/plain": [
       "OneHotEncoder()"
      ]
     },
     "execution_count": 82,
     "metadata": {},
     "output_type": "execute_result"
    }
   ],
   "source": [
    "ohe.fit(X[[\"NAME_EDUCATION_TYPE\",\"CODE_GENDER\", \"NAME_INCOME_TYPE\", \"OCCUPATION_TYPE\", \"ORGANIZATION_TYPE\", \"FLAG_OWN_CAR\"]])"
   ]
  },
  {
   "cell_type": "code",
   "execution_count": 83,
   "metadata": {},
   "outputs": [],
   "source": [
    "onehot_trans = make_column_transformer((OneHotEncoder(categories=ohe.categories_),[\"NAME_EDUCATION_TYPE\",\"CODE_GENDER\", \"NAME_INCOME_TYPE\", \"OCCUPATION_TYPE\", \"ORGANIZATION_TYPE\", \"FLAG_OWN_CAR\"]),remainder = \"passthrough\")"
   ]
  },
  {
   "cell_type": "code",
   "execution_count": 84,
   "metadata": {},
   "outputs": [
    {
     "data": {
      "text/plain": [
       "[array(['Academic degree', 'Higher education', 'Incomplete higher',\n",
       "        'Lower secondary', 'Secondary / secondary special'], dtype=object),\n",
       " array(['F', 'M'], dtype=object),\n",
       " array(['Commercial associate', 'State servant', 'Working'], dtype=object),\n",
       " array(['Accountants', 'Cleaning staff', 'Cooking staff', 'Core staff',\n",
       "        'Drivers', 'HR staff', 'High skill tech staff', 'IT staff',\n",
       "        'Laborers', 'Low-skill Laborers', 'Managers', 'Medicine staff',\n",
       "        'Private service staff', 'Realty agents', 'Sales staff',\n",
       "        'Secretaries', 'Security staff', 'Waiters/barmen staff'],\n",
       "       dtype=object),\n",
       " array(['Advertising', 'Agriculture', 'Bank', 'Business Entity Type 1',\n",
       "        'Business Entity Type 2', 'Business Entity Type 3', 'Cleaning',\n",
       "        'Construction', 'Culture', 'Electricity', 'Emergency',\n",
       "        'Government', 'Hotel', 'Housing', 'Industry: type 1',\n",
       "        'Industry: type 10', 'Industry: type 11', 'Industry: type 12',\n",
       "        'Industry: type 13', 'Industry: type 2', 'Industry: type 3',\n",
       "        'Industry: type 4', 'Industry: type 5', 'Industry: type 6',\n",
       "        'Industry: type 7', 'Industry: type 8', 'Industry: type 9',\n",
       "        'Insurance', 'Kindergarten', 'Legal Services', 'Medicine',\n",
       "        'Military', 'Mobile', 'Other', 'Police', 'Postal', 'Realtor',\n",
       "        'Religion', 'Restaurant', 'School', 'Security',\n",
       "        'Security Ministries', 'Self-employed', 'Services', 'Telecom',\n",
       "        'Trade: type 1', 'Trade: type 2', 'Trade: type 3', 'Trade: type 4',\n",
       "        'Trade: type 5', 'Trade: type 6', 'Trade: type 7',\n",
       "        'Transport: type 1', 'Transport: type 2', 'Transport: type 3',\n",
       "        'Transport: type 4', 'University'], dtype=object),\n",
       " array(['N', 'Y'], dtype=object)]"
      ]
     },
     "execution_count": 84,
     "metadata": {},
     "output_type": "execute_result"
    }
   ],
   "source": [
    "ohe.categories_"
   ]
  },
  {
   "cell_type": "code",
   "execution_count": 85,
   "metadata": {},
   "outputs": [
    {
     "data": {
      "text/html": [
       "<style>#sk-container-id-24 {color: black;background-color: white;}#sk-container-id-24 pre{padding: 0;}#sk-container-id-24 div.sk-toggleable {background-color: white;}#sk-container-id-24 label.sk-toggleable__label {cursor: pointer;display: block;width: 100%;margin-bottom: 0;padding: 0.3em;box-sizing: border-box;text-align: center;}#sk-container-id-24 label.sk-toggleable__label-arrow:before {content: \"▸\";float: left;margin-right: 0.25em;color: #696969;}#sk-container-id-24 label.sk-toggleable__label-arrow:hover:before {color: black;}#sk-container-id-24 div.sk-estimator:hover label.sk-toggleable__label-arrow:before {color: black;}#sk-container-id-24 div.sk-toggleable__content {max-height: 0;max-width: 0;overflow: hidden;text-align: left;background-color: #f0f8ff;}#sk-container-id-24 div.sk-toggleable__content pre {margin: 0.2em;color: black;border-radius: 0.25em;background-color: #f0f8ff;}#sk-container-id-24 input.sk-toggleable__control:checked~div.sk-toggleable__content {max-height: 200px;max-width: 100%;overflow: auto;}#sk-container-id-24 input.sk-toggleable__control:checked~label.sk-toggleable__label-arrow:before {content: \"▾\";}#sk-container-id-24 div.sk-estimator input.sk-toggleable__control:checked~label.sk-toggleable__label {background-color: #d4ebff;}#sk-container-id-24 div.sk-label input.sk-toggleable__control:checked~label.sk-toggleable__label {background-color: #d4ebff;}#sk-container-id-24 input.sk-hidden--visually {border: 0;clip: rect(1px 1px 1px 1px);clip: rect(1px, 1px, 1px, 1px);height: 1px;margin: -1px;overflow: hidden;padding: 0;position: absolute;width: 1px;}#sk-container-id-24 div.sk-estimator {font-family: monospace;background-color: #f0f8ff;border: 1px dotted black;border-radius: 0.25em;box-sizing: border-box;margin-bottom: 0.5em;}#sk-container-id-24 div.sk-estimator:hover {background-color: #d4ebff;}#sk-container-id-24 div.sk-parallel-item::after {content: \"\";width: 100%;border-bottom: 1px solid gray;flex-grow: 1;}#sk-container-id-24 div.sk-label:hover label.sk-toggleable__label {background-color: #d4ebff;}#sk-container-id-24 div.sk-serial::before {content: \"\";position: absolute;border-left: 1px solid gray;box-sizing: border-box;top: 0;bottom: 0;left: 50%;z-index: 0;}#sk-container-id-24 div.sk-serial {display: flex;flex-direction: column;align-items: center;background-color: white;padding-right: 0.2em;padding-left: 0.2em;position: relative;}#sk-container-id-24 div.sk-item {position: relative;z-index: 1;}#sk-container-id-24 div.sk-parallel {display: flex;align-items: stretch;justify-content: center;background-color: white;position: relative;}#sk-container-id-24 div.sk-item::before, #sk-container-id-24 div.sk-parallel-item::before {content: \"\";position: absolute;border-left: 1px solid gray;box-sizing: border-box;top: 0;bottom: 0;left: 50%;z-index: -1;}#sk-container-id-24 div.sk-parallel-item {display: flex;flex-direction: column;z-index: 1;position: relative;background-color: white;}#sk-container-id-24 div.sk-parallel-item:first-child::after {align-self: flex-end;width: 50%;}#sk-container-id-24 div.sk-parallel-item:last-child::after {align-self: flex-start;width: 50%;}#sk-container-id-24 div.sk-parallel-item:only-child::after {width: 0;}#sk-container-id-24 div.sk-dashed-wrapped {border: 1px dashed gray;margin: 0 0.4em 0.5em 0.4em;box-sizing: border-box;padding-bottom: 0.4em;background-color: white;}#sk-container-id-24 div.sk-label label {font-family: monospace;font-weight: bold;display: inline-block;line-height: 1.2em;}#sk-container-id-24 div.sk-label-container {text-align: center;}#sk-container-id-24 div.sk-container {/* jupyter's `normalize.less` sets `[hidden] { display: none; }` but bootstrap.min.css set `[hidden] { display: none !important; }` so we also need the `!important` here to be able to override the default hidden behavior on the sphinx rendered scikit-learn.org. See: https://github.com/scikit-learn/scikit-learn/issues/21755 */display: inline-block !important;position: relative;}#sk-container-id-24 div.sk-text-repr-fallback {display: none;}</style><div id=\"sk-container-id-24\" class=\"sk-top-container\"><div class=\"sk-text-repr-fallback\"><pre>ColumnTransformer(remainder=&#x27;passthrough&#x27;,\n",
       "                  transformers=[(&#x27;onehotencoder&#x27;,\n",
       "                                 OneHotEncoder(categories=[array([&#x27;Academic degree&#x27;, &#x27;Higher education&#x27;, &#x27;Incomplete higher&#x27;,\n",
       "       &#x27;Lower secondary&#x27;, &#x27;Secondary / secondary special&#x27;], dtype=object),\n",
       "                                                           array([&#x27;F&#x27;, &#x27;M&#x27;], dtype=object),\n",
       "                                                           array([&#x27;Commercial associate&#x27;, &#x27;State servant&#x27;, &#x27;Working&#x27;], dtype=object),\n",
       "                                                           array([&#x27;Accountants&#x27;, &#x27;Cleaning...\n",
       "       &#x27;Security Ministries&#x27;, &#x27;Self-employed&#x27;, &#x27;Services&#x27;, &#x27;Telecom&#x27;,\n",
       "       &#x27;Trade: type 1&#x27;, &#x27;Trade: type 2&#x27;, &#x27;Trade: type 3&#x27;, &#x27;Trade: type 4&#x27;,\n",
       "       &#x27;Trade: type 5&#x27;, &#x27;Trade: type 6&#x27;, &#x27;Trade: type 7&#x27;,\n",
       "       &#x27;Transport: type 1&#x27;, &#x27;Transport: type 2&#x27;, &#x27;Transport: type 3&#x27;,\n",
       "       &#x27;Transport: type 4&#x27;, &#x27;University&#x27;], dtype=object),\n",
       "                                                           array([&#x27;N&#x27;, &#x27;Y&#x27;], dtype=object)]),\n",
       "                                 [&#x27;NAME_EDUCATION_TYPE&#x27;, &#x27;CODE_GENDER&#x27;,\n",
       "                                  &#x27;NAME_INCOME_TYPE&#x27;, &#x27;OCCUPATION_TYPE&#x27;,\n",
       "                                  &#x27;ORGANIZATION_TYPE&#x27;, &#x27;FLAG_OWN_CAR&#x27;])])</pre><b>In a Jupyter environment, please rerun this cell to show the HTML representation or trust the notebook. <br />On GitHub, the HTML representation is unable to render, please try loading this page with nbviewer.org.</b></div><div class=\"sk-container\" hidden><div class=\"sk-item sk-dashed-wrapped\"><div class=\"sk-label-container\"><div class=\"sk-label sk-toggleable\"><input class=\"sk-toggleable__control sk-hidden--visually\" id=\"sk-estimator-id-137\" type=\"checkbox\" ><label for=\"sk-estimator-id-137\" class=\"sk-toggleable__label sk-toggleable__label-arrow\">ColumnTransformer</label><div class=\"sk-toggleable__content\"><pre>ColumnTransformer(remainder=&#x27;passthrough&#x27;,\n",
       "                  transformers=[(&#x27;onehotencoder&#x27;,\n",
       "                                 OneHotEncoder(categories=[array([&#x27;Academic degree&#x27;, &#x27;Higher education&#x27;, &#x27;Incomplete higher&#x27;,\n",
       "       &#x27;Lower secondary&#x27;, &#x27;Secondary / secondary special&#x27;], dtype=object),\n",
       "                                                           array([&#x27;F&#x27;, &#x27;M&#x27;], dtype=object),\n",
       "                                                           array([&#x27;Commercial associate&#x27;, &#x27;State servant&#x27;, &#x27;Working&#x27;], dtype=object),\n",
       "                                                           array([&#x27;Accountants&#x27;, &#x27;Cleaning...\n",
       "       &#x27;Security Ministries&#x27;, &#x27;Self-employed&#x27;, &#x27;Services&#x27;, &#x27;Telecom&#x27;,\n",
       "       &#x27;Trade: type 1&#x27;, &#x27;Trade: type 2&#x27;, &#x27;Trade: type 3&#x27;, &#x27;Trade: type 4&#x27;,\n",
       "       &#x27;Trade: type 5&#x27;, &#x27;Trade: type 6&#x27;, &#x27;Trade: type 7&#x27;,\n",
       "       &#x27;Transport: type 1&#x27;, &#x27;Transport: type 2&#x27;, &#x27;Transport: type 3&#x27;,\n",
       "       &#x27;Transport: type 4&#x27;, &#x27;University&#x27;], dtype=object),\n",
       "                                                           array([&#x27;N&#x27;, &#x27;Y&#x27;], dtype=object)]),\n",
       "                                 [&#x27;NAME_EDUCATION_TYPE&#x27;, &#x27;CODE_GENDER&#x27;,\n",
       "                                  &#x27;NAME_INCOME_TYPE&#x27;, &#x27;OCCUPATION_TYPE&#x27;,\n",
       "                                  &#x27;ORGANIZATION_TYPE&#x27;, &#x27;FLAG_OWN_CAR&#x27;])])</pre></div></div></div><div class=\"sk-parallel\"><div class=\"sk-parallel-item\"><div class=\"sk-item\"><div class=\"sk-label-container\"><div class=\"sk-label sk-toggleable\"><input class=\"sk-toggleable__control sk-hidden--visually\" id=\"sk-estimator-id-138\" type=\"checkbox\" ><label for=\"sk-estimator-id-138\" class=\"sk-toggleable__label sk-toggleable__label-arrow\">onehotencoder</label><div class=\"sk-toggleable__content\"><pre>[&#x27;NAME_EDUCATION_TYPE&#x27;, &#x27;CODE_GENDER&#x27;, &#x27;NAME_INCOME_TYPE&#x27;, &#x27;OCCUPATION_TYPE&#x27;, &#x27;ORGANIZATION_TYPE&#x27;, &#x27;FLAG_OWN_CAR&#x27;]</pre></div></div></div><div class=\"sk-serial\"><div class=\"sk-item\"><div class=\"sk-estimator sk-toggleable\"><input class=\"sk-toggleable__control sk-hidden--visually\" id=\"sk-estimator-id-139\" type=\"checkbox\" ><label for=\"sk-estimator-id-139\" class=\"sk-toggleable__label sk-toggleable__label-arrow\">OneHotEncoder</label><div class=\"sk-toggleable__content\"><pre>OneHotEncoder(categories=[array([&#x27;Academic degree&#x27;, &#x27;Higher education&#x27;, &#x27;Incomplete higher&#x27;,\n",
       "       &#x27;Lower secondary&#x27;, &#x27;Secondary / secondary special&#x27;], dtype=object),\n",
       "                          array([&#x27;F&#x27;, &#x27;M&#x27;], dtype=object),\n",
       "                          array([&#x27;Commercial associate&#x27;, &#x27;State servant&#x27;, &#x27;Working&#x27;], dtype=object),\n",
       "                          array([&#x27;Accountants&#x27;, &#x27;Cleaning staff&#x27;, &#x27;Cooking staff&#x27;, &#x27;Core staff&#x27;,\n",
       "       &#x27;Drivers&#x27;, &#x27;HR staff&#x27;, &#x27;High skill tech staff...\n",
       "       &#x27;Military&#x27;, &#x27;Mobile&#x27;, &#x27;Other&#x27;, &#x27;Police&#x27;, &#x27;Postal&#x27;, &#x27;Realtor&#x27;,\n",
       "       &#x27;Religion&#x27;, &#x27;Restaurant&#x27;, &#x27;School&#x27;, &#x27;Security&#x27;,\n",
       "       &#x27;Security Ministries&#x27;, &#x27;Self-employed&#x27;, &#x27;Services&#x27;, &#x27;Telecom&#x27;,\n",
       "       &#x27;Trade: type 1&#x27;, &#x27;Trade: type 2&#x27;, &#x27;Trade: type 3&#x27;, &#x27;Trade: type 4&#x27;,\n",
       "       &#x27;Trade: type 5&#x27;, &#x27;Trade: type 6&#x27;, &#x27;Trade: type 7&#x27;,\n",
       "       &#x27;Transport: type 1&#x27;, &#x27;Transport: type 2&#x27;, &#x27;Transport: type 3&#x27;,\n",
       "       &#x27;Transport: type 4&#x27;, &#x27;University&#x27;], dtype=object),\n",
       "                          array([&#x27;N&#x27;, &#x27;Y&#x27;], dtype=object)])</pre></div></div></div></div></div></div><div class=\"sk-parallel-item\"><div class=\"sk-item\"><div class=\"sk-label-container\"><div class=\"sk-label sk-toggleable\"><input class=\"sk-toggleable__control sk-hidden--visually\" id=\"sk-estimator-id-140\" type=\"checkbox\" ><label for=\"sk-estimator-id-140\" class=\"sk-toggleable__label sk-toggleable__label-arrow\">remainder</label><div class=\"sk-toggleable__content\"><pre></pre></div></div></div><div class=\"sk-serial\"><div class=\"sk-item\"><div class=\"sk-estimator sk-toggleable\"><input class=\"sk-toggleable__control sk-hidden--visually\" id=\"sk-estimator-id-141\" type=\"checkbox\" ><label for=\"sk-estimator-id-141\" class=\"sk-toggleable__label sk-toggleable__label-arrow\">passthrough</label><div class=\"sk-toggleable__content\"><pre>passthrough</pre></div></div></div></div></div></div></div></div></div></div>"
      ],
      "text/plain": [
       "ColumnTransformer(remainder='passthrough',\n",
       "                  transformers=[('onehotencoder',\n",
       "                                 OneHotEncoder(categories=[array(['Academic degree', 'Higher education', 'Incomplete higher',\n",
       "       'Lower secondary', 'Secondary / secondary special'], dtype=object),\n",
       "                                                           array(['F', 'M'], dtype=object),\n",
       "                                                           array(['Commercial associate', 'State servant', 'Working'], dtype=object),\n",
       "                                                           array(['Accountants', 'Cleaning...\n",
       "       'Security Ministries', 'Self-employed', 'Services', 'Telecom',\n",
       "       'Trade: type 1', 'Trade: type 2', 'Trade: type 3', 'Trade: type 4',\n",
       "       'Trade: type 5', 'Trade: type 6', 'Trade: type 7',\n",
       "       'Transport: type 1', 'Transport: type 2', 'Transport: type 3',\n",
       "       'Transport: type 4', 'University'], dtype=object),\n",
       "                                                           array(['N', 'Y'], dtype=object)]),\n",
       "                                 ['NAME_EDUCATION_TYPE', 'CODE_GENDER',\n",
       "                                  'NAME_INCOME_TYPE', 'OCCUPATION_TYPE',\n",
       "                                  'ORGANIZATION_TYPE', 'FLAG_OWN_CAR'])])"
      ]
     },
     "execution_count": 85,
     "metadata": {},
     "output_type": "execute_result"
    }
   ],
   "source": [
    "onehot_trans"
   ]
  },
  {
   "cell_type": "code",
   "execution_count": 24,
   "metadata": {},
   "outputs": [],
   "source": [
    "# normalize features\n",
    "from sklearn.preprocessing import StandardScaler\n",
    "# scaler = StandardScaler()\n",
    "# X_train = scaler.fit_transform(X_train)\n",
    "# X_test = scaler.fit_transform(X_test)"
   ]
  },
  {
   "cell_type": "code",
   "execution_count": 86,
   "metadata": {},
   "outputs": [],
   "source": [
    "data = onehot_trans.fit_transform(X)"
   ]
  },
  {
   "cell_type": "code",
   "execution_count": 87,
   "metadata": {},
   "outputs": [
    {
     "data": {
      "text/plain": [
       "<37968x98 sparse matrix of type '<class 'numpy.float64'>'\n",
       "\twith 641532 stored elements in Compressed Sparse Row format>"
      ]
     },
     "execution_count": 87,
     "metadata": {},
     "output_type": "execute_result"
    }
   ],
   "source": [
    "data"
   ]
  },
  {
   "cell_type": "markdown",
   "metadata": {
    "tags": []
   },
   "source": [
    "## MODEL BUILDING"
   ]
  },
  {
   "cell_type": "markdown",
   "metadata": {},
   "source": [
    "Beberapa algoritma yang akan kita uji :\n",
    "-  Logistic Regression\n",
    "- Gaussian Naive Bayes\n",
    "- Decision Tree\n",
    "- Random Forest\n",
    "- K-Nearest Neighbor\n",
    "- Neural Network\n",
    "- SVM\n",
    "- AdaBoost\n",
    "- XGboost\n"
   ]
  },
  {
   "cell_type": "code",
   "execution_count": 29,
   "metadata": {},
   "outputs": [],
   "source": [
    "# from sklearn.linear_model import LogisticRegression #logistic regression\n",
    "# from sklearn.naive_bayes import GaussianNB #gaussian naive bayes\n",
    "from sklearn import tree\n",
    "# from sklearn.tree import DecisionTreeClassifier #decision tree\n",
    "from sklearn.ensemble import RandomForestClassifier #random forest\n",
    "# from sklearn.neighbors import KNeighborsClassifier #k-nearest neighbor\n",
    "# from sklearn.neural_network import MLPClassifier #neural network\n",
    "# from sklearn.svm import SVC\n",
    "from sklearn.metrics import confusion_matrix, classification_report \n",
    "from sklearn.metrics import roc_auc_score #roc score\n",
    "from sklearn.metrics import accuracy_score\n",
    "from sklearn.metrics import precision_score\n",
    "from sklearn.metrics import recall_score"
   ]
  },
  {
   "cell_type": "markdown",
   "metadata": {
    "jp-MarkdownHeadingCollapsed": true,
    "tags": []
   },
   "source": [
    "### Logistic Regression"
   ]
  },
  {
   "cell_type": "code",
   "execution_count": 42,
   "metadata": {},
   "outputs": [
    {
     "name": "stdout",
     "output_type": "stream",
     "text": [
      "LogisticRegression()\n"
     ]
    }
   ],
   "source": [
    "# train the model\n",
    "log_model = LogisticRegression().fit(X_train, y_train)\n",
    "print(log_model)"
   ]
  },
  {
   "cell_type": "code",
   "execution_count": 43,
   "metadata": {},
   "outputs": [
    {
     "name": "stdout",
     "output_type": "stream",
     "text": [
      "Classification Report Training Model (Logistic Regression):\n",
      "              precision    recall  f1-score   support\n",
      "\n",
      "           0       0.68      0.68      0.68     13256\n",
      "           1       0.68      0.68      0.68     13321\n",
      "\n",
      "    accuracy                           0.68     26577\n",
      "   macro avg       0.68      0.68      0.68     26577\n",
      "weighted avg       0.68      0.68      0.68     26577\n",
      "\n"
     ]
    }
   ],
   "source": [
    "# predict data train\n",
    "y_train_pred_log = log_model.predict(X_train)\n",
    "\n",
    "# print classification report\n",
    "print('Classification Report Training Model (Logistic Regression):')\n",
    "print(classification_report(y_train, y_train_pred_log))"
   ]
  },
  {
   "cell_type": "code",
   "execution_count": 44,
   "metadata": {},
   "outputs": [
    {
     "name": "stdout",
     "output_type": "stream",
     "text": [
      "Akurasi : 0.6779546224178801\n",
      "Precision : 0.6779531097336975\n",
      "Recall : 0.6779537083419545\n",
      "AUC : 0.6779537083419545\n"
     ]
    }
   ],
   "source": [
    "print(\"Akurasi :\", accuracy_score(y_train, y_train_pred_log))\n",
    "print(\"Precision :\", precision_score(y_train, y_train_pred_log, average='macro'))\n",
    "print(\"Recall :\", recall_score(y_train, y_train_pred_log, average='macro'))\n",
    "print(\"AUC :\", roc_auc_score(y_train, y_train_pred_log))"
   ]
  },
  {
   "cell_type": "code",
   "execution_count": 45,
   "metadata": {},
   "outputs": [
    {
     "name": "stdout",
     "output_type": "stream",
     "text": [
      "Classification Report Testing Model (Logistic Regression):\n",
      "              precision    recall  f1-score   support\n",
      "\n",
      "           0       0.67      0.67      0.67      5728\n",
      "           1       0.67      0.67      0.67      5663\n",
      "\n",
      "    accuracy                           0.67     11391\n",
      "   macro avg       0.67      0.67      0.67     11391\n",
      "weighted avg       0.67      0.67      0.67     11391\n",
      "\n"
     ]
    }
   ],
   "source": [
    "# predict data test\n",
    "y_test_pred_log = log_model.predict(X_test)\n",
    "\n",
    "# print classification report\n",
    "print('Classification Report Testing Model (Logistic Regression):')\n",
    "print(classification_report(y_test, y_test_pred_log))"
   ]
  },
  {
   "cell_type": "code",
   "execution_count": 47,
   "metadata": {},
   "outputs": [
    {
     "name": "stdout",
     "output_type": "stream",
     "text": [
      "Akurasi : 0.6717584057589325\n",
      "Precision : 0.6717490744671307\n",
      "Recall : 0.6717512241325393\n",
      "AUC : 0.6717512241325393\n"
     ]
    }
   ],
   "source": [
    "print(\"Akurasi :\", accuracy_score(y_test, y_test_pred_log))\n",
    "print(\"Precision :\", precision_score(y_test, y_test_pred_log, average='macro'))\n",
    "print(\"Recall :\", recall_score(y_test, y_test_pred_log, average='macro'))\n",
    "print(\"AUC :\", roc_auc_score(y_test, y_test_pred_log))"
   ]
  },
  {
   "cell_type": "markdown",
   "metadata": {
    "jp-MarkdownHeadingCollapsed": true,
    "tags": []
   },
   "source": [
    "## Naive Bayes"
   ]
  },
  {
   "cell_type": "code",
   "execution_count": 48,
   "metadata": {},
   "outputs": [
    {
     "name": "stdout",
     "output_type": "stream",
     "text": [
      "GaussianNB()\n"
     ]
    }
   ],
   "source": [
    "# train the model\n",
    "gnb_model = GaussianNB().fit(X_train, y_train)\n",
    "print(gnb_model)"
   ]
  },
  {
   "cell_type": "code",
   "execution_count": 49,
   "metadata": {},
   "outputs": [
    {
     "name": "stdout",
     "output_type": "stream",
     "text": [
      "Classification Report Training Model (Gaussian Naive Bayes):\n",
      "              precision    recall  f1-score   support\n",
      "\n",
      "           0       0.68      0.03      0.06     13256\n",
      "           1       0.51      0.98      0.67     13321\n",
      "\n",
      "    accuracy                           0.51     26577\n",
      "   macro avg       0.59      0.51      0.37     26577\n",
      "weighted avg       0.59      0.51      0.37     26577\n",
      "\n"
     ]
    }
   ],
   "source": [
    "# predict data train\n",
    "y_train_pred_gnb = gnb_model.predict(X_train)\n",
    "\n",
    "# print classification report\n",
    "print('Classification Report Training Model (Gaussian Naive Bayes):')\n",
    "print(classification_report(y_train, y_train_pred_gnb))"
   ]
  },
  {
   "cell_type": "code",
   "execution_count": 50,
   "metadata": {},
   "outputs": [
    {
     "name": "stdout",
     "output_type": "stream",
     "text": [
      "Akurasi : 0.5100274673589946\n",
      "Precision : 0.5920605914688251\n",
      "Recall : 0.508865026303525\n",
      "AUC : 0.5088650263035251\n"
     ]
    }
   ],
   "source": [
    "print(\"Akurasi :\", accuracy_score(y_train, y_train_pred_gnb))\n",
    "print(\"Precision :\", precision_score(y_train, y_train_pred_gnb, average='macro'))\n",
    "print(\"Recall :\", recall_score(y_train, y_train_pred_gnb, average='macro'))\n",
    "print(\"AUC :\", roc_auc_score(y_train, y_train_pred_gnb))"
   ]
  },
  {
   "cell_type": "code",
   "execution_count": 51,
   "metadata": {},
   "outputs": [
    {
     "name": "stdout",
     "output_type": "stream",
     "text": [
      "Classification Report Testing Model (Gaussian Naive Bayes):\n",
      "              precision    recall  f1-score   support\n",
      "\n",
      "           0       0.50      1.00      0.67      5728\n",
      "           1       0.00      0.00      0.00      5663\n",
      "\n",
      "    accuracy                           0.50     11391\n",
      "   macro avg       0.25      0.50      0.33     11391\n",
      "weighted avg       0.25      0.50      0.34     11391\n",
      "\n"
     ]
    },
    {
     "name": "stderr",
     "output_type": "stream",
     "text": [
      "D:\\anaconda\\lib\\site-packages\\sklearn\\metrics\\_classification.py:1221: UndefinedMetricWarning: Precision and F-score are ill-defined and being set to 0.0 in labels with no predicted samples. Use `zero_division` parameter to control this behavior.\n",
      "  _warn_prf(average, modifier, msg_start, len(result))\n"
     ]
    }
   ],
   "source": [
    "# predict data test\n",
    "y_test_pred_gnb = gnb_model.predict(X_test)\n",
    "\n",
    "# print classification report\n",
    "print('Classification Report Testing Model (Gaussian Naive Bayes):')\n",
    "print(classification_report(y_test, y_test_pred_gnb))\n"
   ]
  },
  {
   "cell_type": "code",
   "execution_count": 52,
   "metadata": {},
   "outputs": [
    {
     "name": "stdout",
     "output_type": "stream",
     "text": [
      "Akurasi : 0.5028531296637696\n",
      "Precision : 0.2514265648318848\n",
      "Recall : 0.5\n",
      "AUC : 0.5\n"
     ]
    },
    {
     "name": "stderr",
     "output_type": "stream",
     "text": [
      "D:\\anaconda\\lib\\site-packages\\sklearn\\metrics\\_classification.py:1221: UndefinedMetricWarning: Precision is ill-defined and being set to 0.0 in labels with no predicted samples. Use `zero_division` parameter to control this behavior.\n",
      "  _warn_prf(average, modifier, msg_start, len(result))\n"
     ]
    }
   ],
   "source": [
    "print(\"Akurasi :\", accuracy_score(y_test, y_test_pred_gnb))\n",
    "print(\"Precision :\", precision_score(y_test, y_test_pred_gnb, average='macro'))\n",
    "print(\"Recall :\", recall_score(y_test, y_test_pred_gnb, average='macro'))\n",
    "print(\"AUC :\", roc_auc_score(y_test, y_test_pred_gnb))"
   ]
  },
  {
   "cell_type": "markdown",
   "metadata": {
    "jp-MarkdownHeadingCollapsed": true,
    "tags": []
   },
   "source": [
    "## Decision Tree"
   ]
  },
  {
   "cell_type": "code",
   "execution_count": 53,
   "metadata": {},
   "outputs": [
    {
     "name": "stdout",
     "output_type": "stream",
     "text": [
      "DecisionTreeClassifier(random_state=42)\n"
     ]
    }
   ],
   "source": [
    "# train the model\n",
    "dt_model = DecisionTreeClassifier(random_state=42).fit(X_train,y_train)\n",
    "print(dt_model)"
   ]
  },
  {
   "cell_type": "code",
   "execution_count": 54,
   "metadata": {},
   "outputs": [
    {
     "name": "stdout",
     "output_type": "stream",
     "text": [
      "Classification Report Training Model (Decision Tree Classifier):\n",
      "              precision    recall  f1-score   support\n",
      "\n",
      "           0       1.00      1.00      1.00     13256\n",
      "           1       1.00      1.00      1.00     13321\n",
      "\n",
      "    accuracy                           1.00     26577\n",
      "   macro avg       1.00      1.00      1.00     26577\n",
      "weighted avg       1.00      1.00      1.00     26577\n",
      "\n"
     ]
    }
   ],
   "source": [
    "# predict data train\n",
    "y_train_pred_dt = dt_model.predict(X_train)\n",
    "\n",
    "# print classification report\n",
    "print('Classification Report Training Model (Decision Tree Classifier):')\n",
    "print(classification_report(y_train, y_train_pred_dt))"
   ]
  },
  {
   "cell_type": "code",
   "execution_count": 55,
   "metadata": {},
   "outputs": [
    {
     "name": "stdout",
     "output_type": "stream",
     "text": [
      "Akurasi : 1.0\n",
      "Precision : 1.0\n",
      "Recall : 1.0\n",
      "AUC : 1.0\n"
     ]
    }
   ],
   "source": [
    "print(\"Akurasi :\", accuracy_score(y_train, y_train_pred_dt))\n",
    "print(\"Precision :\", precision_score(y_train, y_train_pred_dt, average='macro'))\n",
    "print(\"Recall :\", recall_score(y_train, y_train_pred_dt, average='macro'))\n",
    "print(\"AUC :\", roc_auc_score(y_train, y_train_pred_dt))"
   ]
  },
  {
   "cell_type": "code",
   "execution_count": 56,
   "metadata": {},
   "outputs": [
    {
     "name": "stdout",
     "output_type": "stream",
     "text": [
      "Classification Report Testing Model (Decision Tree Classifier):\n",
      "              precision    recall  f1-score   support\n",
      "\n",
      "           0       0.88      0.87      0.87      5728\n",
      "           1       0.87      0.88      0.87      5663\n",
      "\n",
      "    accuracy                           0.87     11391\n",
      "   macro avg       0.87      0.87      0.87     11391\n",
      "weighted avg       0.87      0.87      0.87     11391\n",
      "\n"
     ]
    }
   ],
   "source": [
    "# predict data test\n",
    "y_test_pred_dt = dt_model.predict(X_test)\n",
    "\n",
    "# print classification report\n",
    "print('Classification Report Testing Model (Decision Tree Classifier):')\n",
    "print(classification_report(y_test, y_test_pred_dt))"
   ]
  },
  {
   "cell_type": "code",
   "execution_count": 57,
   "metadata": {},
   "outputs": [
    {
     "name": "stdout",
     "output_type": "stream",
     "text": [
      "Akurasi : 0.8737599859538232\n",
      "Precision : 0.8737657848065716\n",
      "Recall : 0.8737769156249968\n",
      "AUC : 0.8737769156249968\n"
     ]
    }
   ],
   "source": [
    "print(\"Akurasi :\", accuracy_score(y_test, y_test_pred_dt))\n",
    "print(\"Precision :\", precision_score(y_test, y_test_pred_dt, average='macro'))\n",
    "print(\"Recall :\", recall_score(y_test, y_test_pred_dt, average='macro'))\n",
    "print(\"AUC :\", roc_auc_score(y_test, y_test_pred_dt))"
   ]
  },
  {
   "cell_type": "code",
   "execution_count": 58,
   "metadata": {},
   "outputs": [
    {
     "name": "stdout",
     "output_type": "stream",
     "text": [
      ">1, train: 0.602, test: 0.596\n",
      ">2, train: 0.636, test: 0.632\n",
      ">3, train: 0.643, test: 0.638\n",
      ">4, train: 0.650, test: 0.643\n",
      ">5, train: 0.660, test: 0.652\n",
      ">6, train: 0.676, test: 0.656\n",
      ">7, train: 0.704, test: 0.682\n",
      ">8, train: 0.726, test: 0.697\n",
      ">9, train: 0.755, test: 0.713\n",
      ">10, train: 0.783, test: 0.732\n",
      ">11, train: 0.806, test: 0.746\n",
      ">12, train: 0.836, test: 0.770\n",
      ">13, train: 0.857, test: 0.782\n",
      ">14, train: 0.877, test: 0.799\n",
      ">15, train: 0.895, test: 0.809\n",
      ">16, train: 0.913, test: 0.820\n",
      ">17, train: 0.929, test: 0.831\n",
      ">18, train: 0.942, test: 0.842\n",
      ">19, train: 0.950, test: 0.847\n"
     ]
    },
    {
     "data": {
      "image/png": "[encoded data removed]",
      "text/plain": [
       "<Figure size 432x288 with 1 Axes>"
      ]
     },
     "metadata": {
      "needs_background": "light"
     },
     "output_type": "display_data"
    }
   ],
   "source": [
    "from matplotlib import pyplot\n",
    "# define lists to collect scores\n",
    "train_scores, test_scores = list(), list()\n",
    "# define the tree depths to evaluate\n",
    "values = [i for i in range(1, 20)]\n",
    "# evaluate a decision tree for each depth\n",
    "for i in values:\n",
    " # configure the model\n",
    " model = DecisionTreeClassifier(max_depth=i)\n",
    " # fit model on the training dataset\n",
    " model.fit(X_train, y_train)\n",
    " # evaluate on the train dataset\n",
    " train_yhat = model.predict(X_train)\n",
    " train_acc = accuracy_score(y_train, train_yhat)\n",
    " train_scores.append(train_acc)\n",
    " # evaluate on the test dataset\n",
    " test_yhat = model.predict(X_test)\n",
    " test_acc = accuracy_score(y_test, test_yhat)\n",
    " test_scores.append(test_acc)\n",
    " # summarize progress\n",
    " print('>%d, train: %.3f, test: %.3f' % (i, train_acc, test_acc))\n",
    "# plot of train and test scores vs tree depth\n",
    "pyplot.plot(values, train_scores, '-o', label='Train')\n",
    "pyplot.plot(values, test_scores, '-o', label='Test')\n",
    "pyplot.legend()\n",
    "pyplot.show()"
   ]
  },
  {
   "cell_type": "markdown",
   "metadata": {
    "jp-MarkdownHeadingCollapsed": true,
    "tags": []
   },
   "source": [
    "### Hyperparameter Tuning for Decision Tree"
   ]
  },
  {
   "cell_type": "code",
   "execution_count": 59,
   "metadata": {},
   "outputs": [
    {
     "name": "stdout",
     "output_type": "stream",
     "text": [
      "DecisionTreeClassifier(random_state=123)\n"
     ]
    }
   ],
   "source": [
    "# train the model\n",
    "dt_tuning = DecisionTreeClassifier(random_state=123).fit(X_train,y_train)\n",
    "print(dt_tuning)"
   ]
  },
  {
   "cell_type": "code",
   "execution_count": 60,
   "metadata": {},
   "outputs": [
    {
     "name": "stdout",
     "output_type": "stream",
     "text": [
      "Fitting 10 folds for each of 9 candidates, totalling 90 fits\n",
      "[CV] max_depth=1, min_samples_leaf=1 .................................\n",
      "[CV] .................. max_depth=1, min_samples_leaf=1, total=   0.1s\n",
      "[CV] max_depth=1, min_samples_leaf=1 .................................\n",
      "[CV] .................. max_depth=1, min_samples_leaf=1, total=   0.1s"
     ]
    },
    {
     "name": "stderr",
     "output_type": "stream",
     "text": [
      "[Parallel(n_jobs=1)]: Using backend SequentialBackend with 1 concurrent workers.\n",
      "[Parallel(n_jobs=1)]: Done   1 out of   1 | elapsed:    0.0s remaining:    0.0s\n"
     ]
    },
    {
     "name": "stdout",
     "output_type": "stream",
     "text": [
      "\n",
      "[CV] max_depth=1, min_samples_leaf=1 .................................\n",
      "[CV] .................. max_depth=1, min_samples_leaf=1, total=   0.1s\n",
      "[CV] max_depth=1, min_samples_leaf=1 .................................\n",
      "[CV] .................. max_depth=1, min_samples_leaf=1, total=   0.1s\n",
      "[CV] max_depth=1, min_samples_leaf=1 .................................\n",
      "[CV] .................. max_depth=1, min_samples_leaf=1, total=   0.1s\n",
      "[CV] max_depth=1, min_samples_leaf=1 .................................\n",
      "[CV] .................. max_depth=1, min_samples_leaf=1, total=   0.1s\n",
      "[CV] max_depth=1, min_samples_leaf=1 .................................\n",
      "[CV] .................. max_depth=1, min_samples_leaf=1, total=   0.1s\n",
      "[CV] max_depth=1, min_samples_leaf=1 .................................\n",
      "[CV] .................. max_depth=1, min_samples_leaf=1, total=   0.1s\n",
      "[CV] max_depth=1, min_samples_leaf=1 .................................\n",
      "[CV] .................. max_depth=1, min_samples_leaf=1, total=   0.1s\n",
      "[CV] max_depth=1, min_samples_leaf=1 .................................\n",
      "[CV] .................. max_depth=1, min_samples_leaf=1, total=   0.1s\n",
      "[CV] max_depth=1, min_samples_leaf=2 .................................\n",
      "[CV] .................. max_depth=1, min_samples_leaf=2, total=   0.1s\n",
      "[CV] max_depth=1, min_samples_leaf=2 .................................\n",
      "[CV] .................. max_depth=1, min_samples_leaf=2, total=   0.1s\n",
      "[CV] max_depth=1, min_samples_leaf=2 .................................\n",
      "[CV] .................. max_depth=1, min_samples_leaf=2, total=   0.1s\n",
      "[CV] max_depth=1, min_samples_leaf=2 .................................\n",
      "[CV] .................. max_depth=1, min_samples_leaf=2, total=   0.1s\n",
      "[CV] max_depth=1, min_samples_leaf=2 .................................\n",
      "[CV] .................. max_depth=1, min_samples_leaf=2, total=   0.1s\n",
      "[CV] max_depth=1, min_samples_leaf=2 .................................\n",
      "[CV] .................. max_depth=1, min_samples_leaf=2, total=   0.1s\n",
      "[CV] max_depth=1, min_samples_leaf=2 .................................\n",
      "[CV] .................. max_depth=1, min_samples_leaf=2, total=   0.1s\n",
      "[CV] max_depth=1, min_samples_leaf=2 .................................\n",
      "[CV] .................. max_depth=1, min_samples_leaf=2, total=   0.1s\n",
      "[CV] max_depth=1, min_samples_leaf=2 .................................\n",
      "[CV] .................. max_depth=1, min_samples_leaf=2, total=   0.1s\n",
      "[CV] max_depth=1, min_samples_leaf=2 .................................\n",
      "[CV] .................. max_depth=1, min_samples_leaf=2, total=   0.1s\n",
      "[CV] max_depth=1, min_samples_leaf=3 .................................\n",
      "[CV] .................. max_depth=1, min_samples_leaf=3, total=   0.1s\n",
      "[CV] max_depth=1, min_samples_leaf=3 .................................\n",
      "[CV] .................. max_depth=1, min_samples_leaf=3, total=   0.1s\n",
      "[CV] max_depth=1, min_samples_leaf=3 .................................\n",
      "[CV] .................. max_depth=1, min_samples_leaf=3, total=   0.1s\n",
      "[CV] max_depth=1, min_samples_leaf=3 .................................\n",
      "[CV] .................. max_depth=1, min_samples_leaf=3, total=   0.1s\n",
      "[CV] max_depth=1, min_samples_leaf=3 .................................\n",
      "[CV] .................. max_depth=1, min_samples_leaf=3, total=   0.1s\n",
      "[CV] max_depth=1, min_samples_leaf=3 .................................\n",
      "[CV] .................. max_depth=1, min_samples_leaf=3, total=   0.1s\n",
      "[CV] max_depth=1, min_samples_leaf=3 .................................\n",
      "[CV] .................. max_depth=1, min_samples_leaf=3, total=   0.1s\n",
      "[CV] max_depth=1, min_samples_leaf=3 .................................\n",
      "[CV] .................. max_depth=1, min_samples_leaf=3, total=   0.1s\n",
      "[CV] max_depth=1, min_samples_leaf=3 .................................\n",
      "[CV] .................. max_depth=1, min_samples_leaf=3, total=   0.1s\n",
      "[CV] max_depth=1, min_samples_leaf=3 .................................\n",
      "[CV] .................. max_depth=1, min_samples_leaf=3, total=   0.1s\n",
      "[CV] max_depth=2, min_samples_leaf=1 .................................\n",
      "[CV] .................. max_depth=2, min_samples_leaf=1, total=   0.1s\n",
      "[CV] max_depth=2, min_samples_leaf=1 .................................\n",
      "[CV] .................. max_depth=2, min_samples_leaf=1, total=   0.1s\n",
      "[CV] max_depth=2, min_samples_leaf=1 .................................\n",
      "[CV] .................. max_depth=2, min_samples_leaf=1, total=   0.1s\n",
      "[CV] max_depth=2, min_samples_leaf=1 .................................\n",
      "[CV] .................. max_depth=2, min_samples_leaf=1, total=   0.1s\n",
      "[CV] max_depth=2, min_samples_leaf=1 .................................\n",
      "[CV] .................. max_depth=2, min_samples_leaf=1, total=   0.1s\n",
      "[CV] max_depth=2, min_samples_leaf=1 .................................\n",
      "[CV] .................. max_depth=2, min_samples_leaf=1, total=   0.1s\n",
      "[CV] max_depth=2, min_samples_leaf=1 .................................\n",
      "[CV] .................. max_depth=2, min_samples_leaf=1, total=   0.1s\n",
      "[CV] max_depth=2, min_samples_leaf=1 .................................\n",
      "[CV] .................. max_depth=2, min_samples_leaf=1, total=   0.1s\n",
      "[CV] max_depth=2, min_samples_leaf=1 .................................\n",
      "[CV] .................. max_depth=2, min_samples_leaf=1, total=   0.1s\n",
      "[CV] max_depth=2, min_samples_leaf=1 .................................\n",
      "[CV] .................. max_depth=2, min_samples_leaf=1, total=   0.2s\n",
      "[CV] max_depth=2, min_samples_leaf=2 .................................\n",
      "[CV] .................. max_depth=2, min_samples_leaf=2, total=   0.2s\n",
      "[CV] max_depth=2, min_samples_leaf=2 .................................\n",
      "[CV] .................. max_depth=2, min_samples_leaf=2, total=   0.1s\n",
      "[CV] max_depth=2, min_samples_leaf=2 .................................\n",
      "[CV] .................. max_depth=2, min_samples_leaf=2, total=   0.1s\n",
      "[CV] max_depth=2, min_samples_leaf=2 .................................\n",
      "[CV] .................. max_depth=2, min_samples_leaf=2, total=   0.1s\n",
      "[CV] max_depth=2, min_samples_leaf=2 .................................\n",
      "[CV] .................. max_depth=2, min_samples_leaf=2, total=   0.1s\n",
      "[CV] max_depth=2, min_samples_leaf=2 .................................\n",
      "[CV] .................. max_depth=2, min_samples_leaf=2, total=   0.1s\n",
      "[CV] max_depth=2, min_samples_leaf=2 .................................\n",
      "[CV] .................. max_depth=2, min_samples_leaf=2, total=   0.1s\n",
      "[CV] max_depth=2, min_samples_leaf=2 .................................\n",
      "[CV] .................. max_depth=2, min_samples_leaf=2, total=   0.1s\n",
      "[CV] max_depth=2, min_samples_leaf=2 .................................\n",
      "[CV] .................. max_depth=2, min_samples_leaf=2, total=   0.2s\n",
      "[CV] max_depth=2, min_samples_leaf=2 .................................\n",
      "[CV] .................. max_depth=2, min_samples_leaf=2, total=   0.1s\n",
      "[CV] max_depth=2, min_samples_leaf=3 .................................\n",
      "[CV] .................. max_depth=2, min_samples_leaf=3, total=   0.1s\n",
      "[CV] max_depth=2, min_samples_leaf=3 .................................\n",
      "[CV] .................. max_depth=2, min_samples_leaf=3, total=   0.1s\n",
      "[CV] max_depth=2, min_samples_leaf=3 .................................\n",
      "[CV] .................. max_depth=2, min_samples_leaf=3, total=   0.1s\n",
      "[CV] max_depth=2, min_samples_leaf=3 .................................\n",
      "[CV] .................. max_depth=2, min_samples_leaf=3, total=   0.1s\n",
      "[CV] max_depth=2, min_samples_leaf=3 .................................\n",
      "[CV] .................. max_depth=2, min_samples_leaf=3, total=   0.2s\n",
      "[CV] max_depth=2, min_samples_leaf=3 .................................\n",
      "[CV] .................. max_depth=2, min_samples_leaf=3, total=   0.1s\n",
      "[CV] max_depth=2, min_samples_leaf=3 .................................\n",
      "[CV] .................. max_depth=2, min_samples_leaf=3, total=   0.2s\n",
      "[CV] max_depth=2, min_samples_leaf=3 .................................\n",
      "[CV] .................. max_depth=2, min_samples_leaf=3, total=   0.1s\n",
      "[CV] max_depth=2, min_samples_leaf=3 .................................\n",
      "[CV] .................. max_depth=2, min_samples_leaf=3, total=   0.2s\n",
      "[CV] max_depth=2, min_samples_leaf=3 .................................\n",
      "[CV] .................. max_depth=2, min_samples_leaf=3, total=   0.2s\n",
      "[CV] max_depth=3, min_samples_leaf=1 .................................\n",
      "[CV] .................. max_depth=3, min_samples_leaf=1, total=   0.2s\n",
      "[CV] max_depth=3, min_samples_leaf=1 .................................\n",
      "[CV] .................. max_depth=3, min_samples_leaf=1, total=   0.2s\n",
      "[CV] max_depth=3, min_samples_leaf=1 .................................\n",
      "[CV] .................. max_depth=3, min_samples_leaf=1, total=   0.2s\n",
      "[CV] max_depth=3, min_samples_leaf=1 .................................\n",
      "[CV] .................. max_depth=3, min_samples_leaf=1, total=   0.2s\n",
      "[CV] max_depth=3, min_samples_leaf=1 .................................\n",
      "[CV] .................. max_depth=3, min_samples_leaf=1, total=   0.2s\n",
      "[CV] max_depth=3, min_samples_leaf=1 .................................\n",
      "[CV] .................. max_depth=3, min_samples_leaf=1, total=   0.2s\n",
      "[CV] max_depth=3, min_samples_leaf=1 .................................\n",
      "[CV] .................. max_depth=3, min_samples_leaf=1, total=   0.2s\n",
      "[CV] max_depth=3, min_samples_leaf=1 .................................\n",
      "[CV] .................. max_depth=3, min_samples_leaf=1, total=   0.2s\n",
      "[CV] max_depth=3, min_samples_leaf=1 .................................\n",
      "[CV] .................. max_depth=3, min_samples_leaf=1, total=   0.2s\n",
      "[CV] max_depth=3, min_samples_leaf=1 .................................\n",
      "[CV] .................. max_depth=3, min_samples_leaf=1, total=   0.2s\n",
      "[CV] max_depth=3, min_samples_leaf=2 .................................\n",
      "[CV] .................. max_depth=3, min_samples_leaf=2, total=   0.2s\n",
      "[CV] max_depth=3, min_samples_leaf=2 .................................\n",
      "[CV] .................. max_depth=3, min_samples_leaf=2, total=   0.2s\n",
      "[CV] max_depth=3, min_samples_leaf=2 .................................\n",
      "[CV] .................. max_depth=3, min_samples_leaf=2, total=   0.2s\n",
      "[CV] max_depth=3, min_samples_leaf=2 .................................\n",
      "[CV] .................. max_depth=3, min_samples_leaf=2, total=   0.2s\n",
      "[CV] max_depth=3, min_samples_leaf=2 .................................\n",
      "[CV] .................. max_depth=3, min_samples_leaf=2, total=   0.2s\n",
      "[CV] max_depth=3, min_samples_leaf=2 .................................\n",
      "[CV] .................. max_depth=3, min_samples_leaf=2, total=   0.2s\n",
      "[CV] max_depth=3, min_samples_leaf=2 .................................\n",
      "[CV] .................. max_depth=3, min_samples_leaf=2, total=   0.2s\n",
      "[CV] max_depth=3, min_samples_leaf=2 .................................\n",
      "[CV] .................. max_depth=3, min_samples_leaf=2, total=   0.2s\n",
      "[CV] max_depth=3, min_samples_leaf=2 .................................\n",
      "[CV] .................. max_depth=3, min_samples_leaf=2, total=   0.2s\n",
      "[CV] max_depth=3, min_samples_leaf=2 .................................\n",
      "[CV] .................. max_depth=3, min_samples_leaf=2, total=   0.2s\n",
      "[CV] max_depth=3, min_samples_leaf=3 .................................\n",
      "[CV] .................. max_depth=3, min_samples_leaf=3, total=   0.2s\n",
      "[CV] max_depth=3, min_samples_leaf=3 .................................\n",
      "[CV] .................. max_depth=3, min_samples_leaf=3, total=   0.2s\n",
      "[CV] max_depth=3, min_samples_leaf=3 .................................\n",
      "[CV] .................. max_depth=3, min_samples_leaf=3, total=   0.2s\n",
      "[CV] max_depth=3, min_samples_leaf=3 .................................\n",
      "[CV] .................. max_depth=3, min_samples_leaf=3, total=   0.2s\n",
      "[CV] max_depth=3, min_samples_leaf=3 .................................\n",
      "[CV] .................. max_depth=3, min_samples_leaf=3, total=   0.2s\n",
      "[CV] max_depth=3, min_samples_leaf=3 .................................\n",
      "[CV] .................. max_depth=3, min_samples_leaf=3, total=   0.2s\n",
      "[CV] max_depth=3, min_samples_leaf=3 .................................\n",
      "[CV] .................. max_depth=3, min_samples_leaf=3, total=   0.2s\n",
      "[CV] max_depth=3, min_samples_leaf=3 .................................\n",
      "[CV] .................. max_depth=3, min_samples_leaf=3, total=   0.2s\n",
      "[CV] max_depth=3, min_samples_leaf=3 .................................\n",
      "[CV] .................. max_depth=3, min_samples_leaf=3, total=   0.2s\n",
      "[CV] max_depth=3, min_samples_leaf=3 .................................\n",
      "[CV] .................. max_depth=3, min_samples_leaf=3, total=   0.2s\n"
     ]
    },
    {
     "name": "stderr",
     "output_type": "stream",
     "text": [
      "[Parallel(n_jobs=1)]: Done  90 out of  90 | elapsed:   12.9s finished\n"
     ]
    },
    {
     "data": {
      "text/plain": [
       "(0.638108232636762, {'max_depth': 3, 'min_samples_leaf': 1})"
      ]
     },
     "execution_count": 60,
     "metadata": {},
     "output_type": "execute_result"
    }
   ],
   "source": [
    "from sklearn.model_selection import GridSearchCV\n",
    "params =  {\n",
    "    'min_samples_leaf': [1, 2, 3],\n",
    "    'max_depth': [1, 2, 3]}\n",
    "\n",
    "# Create gridsearch instance\n",
    "grid = GridSearchCV(estimator=dt_tuning,\n",
    "                    param_grid=params,\n",
    "                    cv=10,\n",
    "                    n_jobs=1,\n",
    "                    verbose=2)\n",
    "# Fit the model\n",
    "grid.fit(X_train, y_train)\n",
    "\n",
    "# Assess the score\n",
    "\n",
    "grid.best_score_, grid.best_params_"
   ]
  },
  {
   "cell_type": "code",
   "execution_count": 61,
   "metadata": {},
   "outputs": [
    {
     "data": {
      "text/plain": [
       "DecisionTreeClassifier(max_depth=3, random_state=42)"
      ]
     },
     "execution_count": 61,
     "metadata": {},
     "output_type": "execute_result"
    }
   ],
   "source": [
    "dt_best = DecisionTreeClassifier(max_depth= 3, min_samples_leaf=1, random_state=42).fit(X_train,y_train)\n",
    "dt_best.fit(X_train, y_train)"
   ]
  },
  {
   "cell_type": "code",
   "execution_count": 62,
   "metadata": {},
   "outputs": [
    {
     "name": "stdout",
     "output_type": "stream",
     "text": [
      "Classification Report Training Model (Decision Tree Classifier):\n",
      "              precision    recall  f1-score   support\n",
      "\n",
      "           0       0.64      0.67      0.65     13256\n",
      "           1       0.65      0.62      0.64     13321\n",
      "\n",
      "    accuracy                           0.64     26577\n",
      "   macro avg       0.64      0.64      0.64     26577\n",
      "weighted avg       0.64      0.64      0.64     26577\n",
      "\n"
     ]
    }
   ],
   "source": [
    "# predict data train\n",
    "y_train_pred_dt = dt_best.predict(X_train)\n",
    "\n",
    "# print classification report\n",
    "print('Classification Report Training Model (Decision Tree Classifier):')\n",
    "print(classification_report(y_train, y_train_pred_dt))"
   ]
  },
  {
   "cell_type": "code",
   "execution_count": 63,
   "metadata": {},
   "outputs": [
    {
     "name": "stdout",
     "output_type": "stream",
     "text": [
      "Akurasi : 0.6432629717424841\n",
      "Precision : 0.6436201195410398\n",
      "Recall : 0.6433198256667442\n",
      "AUC : 0.6433198256667441\n"
     ]
    }
   ],
   "source": [
    "print(\"Akurasi :\", accuracy_score(y_train, y_train_pred_dt))\n",
    "print(\"Precision :\", precision_score(y_train, y_train_pred_dt, average='macro'))\n",
    "print(\"Recall :\", recall_score(y_train, y_train_pred_dt, average='macro'))\n",
    "print(\"AUC :\", roc_auc_score(y_train, y_train_pred_dt))"
   ]
  },
  {
   "cell_type": "code",
   "execution_count": 64,
   "metadata": {},
   "outputs": [
    {
     "name": "stdout",
     "output_type": "stream",
     "text": [
      "Classification Report Testing Model (Decision Tree Classifier):\n",
      "              precision    recall  f1-score   support\n",
      "\n",
      "           0       0.63      0.66      0.65      5728\n",
      "           1       0.64      0.61      0.63      5663\n",
      "\n",
      "    accuracy                           0.64     11391\n",
      "   macro avg       0.64      0.64      0.64     11391\n",
      "weighted avg       0.64      0.64      0.64     11391\n",
      "\n"
     ]
    }
   ],
   "source": [
    "# predict data test\n",
    "y_test_pred_dt = dt_best.predict(X_test)\n",
    "\n",
    "# print classification report\n",
    "print('Classification Report Testing Model (Decision Tree Classifier):')\n",
    "print(classification_report(y_test, y_test_pred_dt))"
   ]
  },
  {
   "cell_type": "code",
   "execution_count": 65,
   "metadata": {},
   "outputs": [
    {
     "name": "stdout",
     "output_type": "stream",
     "text": [
      "Akurasi : 0.6384865244491265\n",
      "Precision : 0.6386748450386728\n",
      "Recall : 0.6383525182331256\n",
      "AUC : 0.6383525182331256\n"
     ]
    }
   ],
   "source": [
    "print(\"Akurasi :\", accuracy_score(y_test, y_test_pred_dt))\n",
    "print(\"Precision :\", precision_score(y_test, y_test_pred_dt, average='macro'))\n",
    "print(\"Recall :\", recall_score(y_test, y_test_pred_dt, average='macro'))\n",
    "print(\"AUC :\", roc_auc_score(y_test, y_test_pred_dt))"
   ]
  },
  {
   "cell_type": "markdown",
   "metadata": {},
   "source": [
    "## Random Forest"
   ]
  },
  {
   "cell_type": "code",
   "execution_count": 97,
   "metadata": {},
   "outputs": [
    {
     "name": "stdout",
     "output_type": "stream",
     "text": [
      "RandomForestClassifier(max_depth=5, n_jobs=-1, oob_score=True, random_state=42)\n"
     ]
    }
   ],
   "source": [
    "# train the model\n",
    "rf_model = RandomForestClassifier(random_state=42, n_jobs=-1, max_depth=5,\n",
    "                                       n_estimators=100, oob_score=True).fit(X_train, y_train)\n",
    "print(rf_model)"
   ]
  },
  {
   "cell_type": "code",
   "execution_count": 98,
   "metadata": {},
   "outputs": [
    {
     "name": "stdout",
     "output_type": "stream",
     "text": [
      "Classification Report Training Model (Decision Tree Classifier):\n",
      "              precision    recall  f1-score   support\n",
      "\n",
      "           0       0.70      0.69      0.70     13256\n",
      "           1       0.70      0.71      0.70     13321\n",
      "\n",
      "    accuracy                           0.70     26577\n",
      "   macro avg       0.70      0.70      0.70     26577\n",
      "weighted avg       0.70      0.70      0.70     26577\n",
      "\n"
     ]
    }
   ],
   "source": [
    "# predict data train\n",
    "y_train_pred_rf = rf_model.predict(X_train)\n",
    "\n",
    "# print classification report\n",
    "print('Classification Report Training Model (Decision Tree Classifier):')\n",
    "print(classification_report(y_train, y_train_pred_rf))"
   ]
  },
  {
   "cell_type": "code",
   "execution_count": 99,
   "metadata": {},
   "outputs": [
    {
     "name": "stdout",
     "output_type": "stream",
     "text": [
      "Akurasi : 0.6999285096135757\n",
      "Precision : 0.6999760460428095\n",
      "Recall : 0.6999067453628764\n",
      "AUC : 0.6999067453628764\n"
     ]
    }
   ],
   "source": [
    "print(\"Akurasi :\", accuracy_score(y_train, y_train_pred_rf))\n",
    "print(\"Precision :\", precision_score(y_train, y_train_pred_rf, average='macro'))\n",
    "print(\"Recall :\", recall_score(y_train, y_train_pred_rf, average='macro'))\n",
    "print(\"AUC :\", roc_auc_score(y_train, y_train_pred_rf))"
   ]
  },
  {
   "cell_type": "code",
   "execution_count": 100,
   "metadata": {},
   "outputs": [
    {
     "name": "stdout",
     "output_type": "stream",
     "text": [
      "Classification Report Testing Model (Random Forest Classifier):\n",
      "              precision    recall  f1-score   support\n",
      "\n",
      "           0       0.70      0.68      0.69      5728\n",
      "           1       0.69      0.70      0.69      5663\n",
      "\n",
      "    accuracy                           0.69     11391\n",
      "   macro avg       0.69      0.69      0.69     11391\n",
      "weighted avg       0.69      0.69      0.69     11391\n",
      "\n"
     ]
    }
   ],
   "source": [
    "# predict data test\n",
    "y_test_pred_rf = rf_model.predict(X_test)\n",
    "from sklearn.metrics import confusion_matrix, classification_report\n",
    "\n",
    "# print classification report\n",
    "print('Classification Report Testing Model (Random Forest Classifier):')\n",
    "print(classification_report(y_test, y_test_pred_rf))"
   ]
  },
  {
   "cell_type": "code",
   "execution_count": 101,
   "metadata": {},
   "outputs": [
    {
     "name": "stdout",
     "output_type": "stream",
     "text": [
      "Akurasi : 0.6916864191028005\n",
      "Precision : 0.6917636067636068\n",
      "Recall : 0.6917324872715864\n",
      "AUC : 0.6917324872715865\n"
     ]
    }
   ],
   "source": [
    "print(\"Akurasi :\", accuracy_score(y_test, y_test_pred_rf))\n",
    "print(\"Precision :\", precision_score(y_test, y_test_pred_rf, average='macro'))\n",
    "print(\"Recall :\", recall_score(y_test, y_test_pred_rf, average='macro'))\n",
    "print(\"AUC :\", roc_auc_score(y_test, y_test_pred_rf))"
   ]
  },
  {
   "cell_type": "markdown",
   "metadata": {},
   "source": [
    "### Hyperparameter Tuning for Random Forest"
   ]
  },
  {
   "cell_type": "code",
   "execution_count": 140,
   "metadata": {},
   "outputs": [],
   "source": [
    "rf_best = RandomForestClassifier(random_state=42, n_jobs=-1, max_depth=5,\n",
    "                                       n_estimators=100, oob_score=True).fit(X_train, y_train)\n"
   ]
  },
  {
   "cell_type": "code",
   "execution_count": 119,
   "metadata": {
    "tags": []
   },
   "outputs": [],
   "source": [
    "rf_pipe = make_pipeline(onehot_trans, StandardScaler(with_mean=False), RandomForestClassifier())"
   ]
  },
  {
   "cell_type": "code",
   "execution_count": 161,
   "metadata": {},
   "outputs": [
    {
     "name": "stdout",
     "output_type": "stream",
     "text": [
      "dict_keys(['memory', 'steps', 'verbose', 'columntransformer', 'standardscaler', 'randomforestclassifier', 'columntransformer__n_jobs', 'columntransformer__remainder', 'columntransformer__sparse_threshold', 'columntransformer__transformer_weights', 'columntransformer__transformers', 'columntransformer__verbose', 'columntransformer__verbose_feature_names_out', 'columntransformer__onehotencoder', 'columntransformer__onehotencoder__categories', 'columntransformer__onehotencoder__drop', 'columntransformer__onehotencoder__dtype', 'columntransformer__onehotencoder__handle_unknown', 'columntransformer__onehotencoder__max_categories', 'columntransformer__onehotencoder__min_frequency', 'columntransformer__onehotencoder__sparse', 'standardscaler__copy', 'standardscaler__with_mean', 'standardscaler__with_std', 'randomforestclassifier__bootstrap', 'randomforestclassifier__ccp_alpha', 'randomforestclassifier__class_weight', 'randomforestclassifier__criterion', 'randomforestclassifier__max_depth', 'randomforestclassifier__max_features', 'randomforestclassifier__max_leaf_nodes', 'randomforestclassifier__max_samples', 'randomforestclassifier__min_impurity_decrease', 'randomforestclassifier__min_samples_leaf', 'randomforestclassifier__min_samples_split', 'randomforestclassifier__min_weight_fraction_leaf', 'randomforestclassifier__n_estimators', 'randomforestclassifier__n_jobs', 'randomforestclassifier__oob_score', 'randomforestclassifier__random_state', 'randomforestclassifier__verbose', 'randomforestclassifier__warm_start'])\n"
     ]
    }
   ],
   "source": [
    "print(rf_clf.get_params().keys())"
   ]
  },
  {
   "cell_type": "code",
   "execution_count": 134,
   "metadata": {},
   "outputs": [
    {
     "data": {
      "text/plain": [
       "['columntransformer',\n",
       " 'columntransformer__n_jobs',\n",
       " 'columntransformer__onehotencoder',\n",
       " 'columntransformer__onehotencoder__categories',\n",
       " 'columntransformer__onehotencoder__drop',\n",
       " 'columntransformer__onehotencoder__dtype',\n",
       " 'columntransformer__onehotencoder__handle_unknown',\n",
       " 'columntransformer__onehotencoder__max_categories',\n",
       " 'columntransformer__onehotencoder__min_frequency',\n",
       " 'columntransformer__onehotencoder__sparse',\n",
       " 'columntransformer__remainder',\n",
       " 'columntransformer__sparse_threshold',\n",
       " 'columntransformer__transformer_weights',\n",
       " 'columntransformer__transformers',\n",
       " 'columntransformer__verbose',\n",
       " 'columntransformer__verbose_feature_names_out',\n",
       " 'memory',\n",
       " 'randomforestclassifier',\n",
       " 'randomforestclassifier__bootstrap',\n",
       " 'randomforestclassifier__ccp_alpha',\n",
       " 'randomforestclassifier__class_weight',\n",
       " 'randomforestclassifier__criterion',\n",
       " 'randomforestclassifier__max_depth',\n",
       " 'randomforestclassifier__max_features',\n",
       " 'randomforestclassifier__max_leaf_nodes',\n",
       " 'randomforestclassifier__max_samples',\n",
       " 'randomforestclassifier__min_impurity_decrease',\n",
       " 'randomforestclassifier__min_samples_leaf',\n",
       " 'randomforestclassifier__min_samples_split',\n",
       " 'randomforestclassifier__min_weight_fraction_leaf',\n",
       " 'randomforestclassifier__n_estimators',\n",
       " 'randomforestclassifier__n_jobs',\n",
       " 'randomforestclassifier__oob_score',\n",
       " 'randomforestclassifier__random_state',\n",
       " 'randomforestclassifier__verbose',\n",
       " 'randomforestclassifier__warm_start',\n",
       " 'standardscaler',\n",
       " 'standardscaler__copy',\n",
       " 'standardscaler__with_mean',\n",
       " 'standardscaler__with_std',\n",
       " 'steps',\n",
       " 'verbose']"
      ]
     },
     "execution_count": 134,
     "metadata": {},
     "output_type": "execute_result"
    }
   ],
   "source": [
    "sorted(rf_pipe.get_params().keys())"
   ]
  },
  {
   "cell_type": "code",
   "execution_count": 138,
   "metadata": {},
   "outputs": [],
   "source": [
    "pipe = make_pipeline(StandardScaler(with_mean=False), rf_best)"
   ]
  },
  {
   "cell_type": "code",
   "execution_count": 130,
   "metadata": {},
   "outputs": [],
   "source": [
    "params = {\n",
    "    'max_depth': [2,3,5,10,20],\n",
    "    'min_samples_leaf': [5,10,20,50,100,200],\n",
    "    'n_estimators': [10,25,30,50,100,200]\n",
    "}"
   ]
  },
  {
   "cell_type": "code",
   "execution_count": null,
   "metadata": {
    "tags": []
   },
   "outputs": [],
   "source": [
    "from sklearn.model_selection import GridSearchCV\n",
    "\n",
    "# Instantiate the grid search model\n",
    "grid_search = GridSearchCV(estimator=rf_best,\n",
    "                           param_grid=params,\n",
    "                           cv = 4,\n",
    "                           n_jobs=-1, verbose=1, scoring=\"accuracy\")\n",
    "\n",
    "grid_search.fit(X_train, y_train)"
   ]
  },
  {
   "cell_type": "code",
   "execution_count": 144,
   "metadata": {},
   "outputs": [],
   "source": [
    "y_train_pred_pipe_rf = model_pipe.predict(X_train)"
   ]
  },
  {
   "cell_type": "code",
   "execution_count": 145,
   "metadata": {},
   "outputs": [
    {
     "name": "stdout",
     "output_type": "stream",
     "text": [
      "              precision    recall  f1-score   support\n",
      "\n",
      "           0       0.70      0.69      0.70     13256\n",
      "           1       0.70      0.71      0.70     13321\n",
      "\n",
      "    accuracy                           0.70     26577\n",
      "   macro avg       0.70      0.70      0.70     26577\n",
      "weighted avg       0.70      0.70      0.70     26577\n",
      "\n"
     ]
    }
   ],
   "source": [
    "print(classification_report(y_train, y_train_pred_pipe_rf))"
   ]
  },
  {
   "cell_type": "code",
   "execution_count": 105,
   "metadata": {},
   "outputs": [
    {
     "data": {
      "text/plain": [
       "0.9001767691867927"
      ]
     },
     "execution_count": 105,
     "metadata": {},
     "output_type": "execute_result"
    }
   ],
   "source": [
    "grid_search.best_score_"
   ]
  },
  {
   "cell_type": "code",
   "execution_count": 106,
   "metadata": {},
   "outputs": [
    {
     "data": {
      "text/plain": [
       "RandomForestClassifier(max_depth=20, min_samples_leaf=5, n_estimators=200,\n",
       "                       n_jobs=-1, oob_score=True, random_state=42)"
      ]
     },
     "execution_count": 106,
     "metadata": {},
     "output_type": "execute_result"
    }
   ],
   "source": [
    "rf_best = grid_search.best_estimator_\n",
    "rf_best.fit(X_train, y_train)"
   ]
  },
  {
   "cell_type": "code",
   "execution_count": 171,
   "metadata": {},
   "outputs": [
    {
     "name": "stdout",
     "output_type": "stream",
     "text": [
      "Classification Report Training Model (Decision Tree Classifier):\n",
      "              precision    recall  f1-score   support\n",
      "\n",
      "           0       0.98      0.95      0.97     13256\n",
      "           1       0.95      0.98      0.97     13321\n",
      "\n",
      "    accuracy                           0.97     26577\n",
      "   macro avg       0.97      0.97      0.97     26577\n",
      "weighted avg       0.97      0.97      0.97     26577\n",
      "\n"
     ]
    }
   ],
   "source": [
    "# predict data train\n",
    "y_train_pred_rf = rf_pipe.predict(X_train)\n",
    "\n",
    "# print classification report\n",
    "print('Classification Report Training Model (Decision Tree Classifier):')\n",
    "print(classification_report(y_train, y_train_pred_rf))"
   ]
  },
  {
   "cell_type": "code",
   "execution_count": 172,
   "metadata": {},
   "outputs": [
    {
     "name": "stdout",
     "output_type": "stream",
     "text": [
      "Akurasi : 0.9667757835722617\n",
      "Precision : 0.967211346420802\n",
      "Recall : 0.9667396032111235\n",
      "AUC : 0.9667396032111236\n"
     ]
    }
   ],
   "source": [
    "print(\"Akurasi :\", accuracy_score(y_train, y_train_pred_rf))\n",
    "print(\"Precision :\", precision_score(y_train, y_train_pred_rf, average='macro'))\n",
    "print(\"Recall :\", recall_score(y_train, y_train_pred_rf, average='macro'))\n",
    "print(\"AUC :\", roc_auc_score(y_train, y_train_pred_rf))"
   ]
  },
  {
   "cell_type": "code",
   "execution_count": 173,
   "metadata": {},
   "outputs": [
    {
     "name": "stdout",
     "output_type": "stream",
     "text": [
      "Classification Report Testing Model (Random Forest Classifier):\n",
      "              precision    recall  f1-score   support\n",
      "\n",
      "           0       0.96      0.89      0.92      5728\n",
      "           1       0.90      0.96      0.93      5663\n",
      "\n",
      "    accuracy                           0.92     11391\n",
      "   macro avg       0.93      0.92      0.92     11391\n",
      "weighted avg       0.93      0.92      0.92     11391\n",
      "\n"
     ]
    }
   ],
   "source": [
    "# predict data test\n",
    "y_test_pred_rf = rf_pipe.predict(X_test)\n",
    "from sklearn.metrics import confusion_matrix, classification_report\n",
    "\n",
    "# print classification report\n",
    "print('Classification Report Testing Model (Random Forest Classifier):')\n",
    "print(classification_report(y_test, y_test_pred_rf))"
   ]
  },
  {
   "cell_type": "code",
   "execution_count": 174,
   "metadata": {},
   "outputs": [
    {
     "name": "stdout",
     "output_type": "stream",
     "text": [
      "Akurasi : 0.9237117022210517\n",
      "Precision : 0.9257193134952101\n",
      "Recall : 0.9239121072343557\n",
      "AUC : 0.9239121072343557\n"
     ]
    }
   ],
   "source": [
    "print(\"Akurasi :\", accuracy_score(y_test, y_test_pred_rf))\n",
    "print(\"Precision :\", precision_score(y_test, y_test_pred_rf, average='macro'))\n",
    "print(\"Recall :\", recall_score(y_test, y_test_pred_rf, average='macro'))\n",
    "print(\"AUC :\", roc_auc_score(y_test, y_test_pred_rf))"
   ]
  },
  {
   "cell_type": "markdown",
   "metadata": {
    "jp-MarkdownHeadingCollapsed": true,
    "tags": []
   },
   "source": [
    "## KNN"
   ]
  },
  {
   "cell_type": "code",
   "execution_count": 71,
   "metadata": {},
   "outputs": [
    {
     "name": "stdout",
     "output_type": "stream",
     "text": [
      "KNeighborsClassifier()\n"
     ]
    }
   ],
   "source": [
    "# train the model\n",
    "knn_model = KNeighborsClassifier().fit(X_train,y_train)\n",
    "print(knn_model)"
   ]
  },
  {
   "cell_type": "code",
   "execution_count": 72,
   "metadata": {},
   "outputs": [
    {
     "name": "stdout",
     "output_type": "stream",
     "text": [
      "Classification Report Training Model (K-Nearest Neighbors):\n",
      "              precision    recall  f1-score   support\n",
      "\n",
      "           0       0.99      0.79      0.88     13256\n",
      "           1       0.83      0.99      0.90     13321\n",
      "\n",
      "    accuracy                           0.89     26577\n",
      "   macro avg       0.91      0.89      0.89     26577\n",
      "weighted avg       0.91      0.89      0.89     26577\n",
      "\n"
     ]
    }
   ],
   "source": [
    "# predit data train\n",
    "y_train_pred_knn = knn_model.predict(X_train)\n",
    "\n",
    "# print classification report\n",
    "print('Classification Report Training Model (K-Nearest Neighbors):')\n",
    "print(classification_report(y_train, y_train_pred_knn))\n"
   ]
  },
  {
   "cell_type": "code",
   "execution_count": 73,
   "metadata": {},
   "outputs": [
    {
     "name": "stdout",
     "output_type": "stream",
     "text": [
      "Akurasi : 0.8924634082101065\n",
      "Precision : 0.9096597973230394\n",
      "Recall : 0.8922133782439161\n",
      "AUC : 0.892213378243916\n"
     ]
    }
   ],
   "source": [
    "print(\"Akurasi :\", accuracy_score(y_train, y_train_pred_knn))\n",
    "print(\"Precision :\", precision_score(y_train, y_train_pred_knn, average='macro'))\n",
    "print(\"Recall :\", recall_score(y_train, y_train_pred_knn, average='macro'))\n",
    "print(\"AUC :\", roc_auc_score(y_train, y_train_pred_knn))"
   ]
  },
  {
   "cell_type": "code",
   "execution_count": 74,
   "metadata": {},
   "outputs": [
    {
     "name": "stdout",
     "output_type": "stream",
     "text": [
      "Classification Report Testing Model (K-Nearest Neighbors):\n",
      "              precision    recall  f1-score   support\n",
      "\n",
      "           0       0.97      0.70      0.81      5728\n",
      "           1       0.76      0.98      0.86      5663\n",
      "\n",
      "    accuracy                           0.84     11391\n",
      "   macro avg       0.87      0.84      0.83     11391\n",
      "weighted avg       0.87      0.84      0.83     11391\n",
      "\n"
     ]
    }
   ],
   "source": [
    "# predit data test\n",
    "y_test_pred_knn = knn_model.predict(X_test)\n",
    "\n",
    "# print classification report\n",
    "print('Classification Report Testing Model (K-Nearest Neighbors):')\n",
    "print(classification_report(y_test, y_test_pred_knn))"
   ]
  },
  {
   "cell_type": "code",
   "execution_count": 75,
   "metadata": {},
   "outputs": [
    {
     "name": "stdout",
     "output_type": "stream",
     "text": [
      "Akurasi : 0.8370643490474936\n",
      "Precision : 0.8651509980003941\n",
      "Recall : 0.8378555712273239\n",
      "AUC : 0.837855571227324\n"
     ]
    }
   ],
   "source": [
    "print(\"Akurasi :\", accuracy_score(y_test, y_test_pred_knn))\n",
    "print(\"Precision :\", precision_score(y_test, y_test_pred_knn, average='macro'))\n",
    "print(\"Recall :\", recall_score(y_test, y_test_pred_knn, average='macro'))\n",
    "print(\"AUC :\", roc_auc_score(y_test, y_test_pred_knn))"
   ]
  },
  {
   "cell_type": "markdown",
   "metadata": {},
   "source": [
    "## Neural Network"
   ]
  },
  {
   "cell_type": "code",
   "execution_count": 76,
   "metadata": {},
   "outputs": [
    {
     "name": "stderr",
     "output_type": "stream",
     "text": [
      "D:\\anaconda\\lib\\site-packages\\sklearn\\neural_network\\_multilayer_perceptron.py:582: ConvergenceWarning: Stochastic Optimizer: Maximum iterations (200) reached and the optimization hasn't converged yet.\n",
      "  warnings.warn(\n"
     ]
    }
   ],
   "source": [
    "# train the model\n",
    "nn_model = MLPClassifier().fit(X_train, y_train)"
   ]
  },
  {
   "cell_type": "code",
   "execution_count": 77,
   "metadata": {},
   "outputs": [
    {
     "name": "stdout",
     "output_type": "stream",
     "text": [
      "Classification Report Training Model (Neural Network):\n",
      "              precision    recall  f1-score   support\n",
      "\n",
      "           0       0.98      0.93      0.96     13256\n",
      "           1       0.93      0.98      0.96     13321\n",
      "\n",
      "    accuracy                           0.96     26577\n",
      "   macro avg       0.96      0.96      0.96     26577\n",
      "weighted avg       0.96      0.96      0.96     26577\n",
      "\n"
     ]
    }
   ],
   "source": [
    "# predit data train\n",
    "y_train_pred_nn = nn_model.predict(X_train)\n",
    "\n",
    "# print classification report\n",
    "print('Classification Report Training Model (Neural Network):')\n",
    "print(classification_report(y_train, y_train_pred_nn))"
   ]
  },
  {
   "cell_type": "code",
   "execution_count": 78,
   "metadata": {},
   "outputs": [
    {
     "name": "stdout",
     "output_type": "stream",
     "text": [
      "Akurasi : 0.9566542499153403\n",
      "Precision : 0.9579933402180618\n",
      "Recall : 0.9565892053045869\n",
      "AUC : 0.9565892053045868\n"
     ]
    }
   ],
   "source": [
    "print(\"Akurasi :\", accuracy_score(y_train, y_train_pred_nn))\n",
    "print(\"Precision :\", precision_score(y_train, y_train_pred_nn, average='macro'))\n",
    "print(\"Recall :\", recall_score(y_train, y_train_pred_nn, average='macro'))\n",
    "print(\"AUC :\", roc_auc_score(y_train, y_train_pred_nn))"
   ]
  },
  {
   "cell_type": "code",
   "execution_count": 79,
   "metadata": {},
   "outputs": [
    {
     "name": "stdout",
     "output_type": "stream",
     "text": [
      "Classification Report Testing Model (Neural Network):\n",
      "              precision    recall  f1-score   support\n",
      "\n",
      "           0       0.95      0.83      0.89      5728\n",
      "           1       0.85      0.96      0.90      5663\n",
      "\n",
      "    accuracy                           0.89     11391\n",
      "   macro avg       0.90      0.89      0.89     11391\n",
      "weighted avg       0.90      0.89      0.89     11391\n",
      "\n"
     ]
    }
   ],
   "source": [
    "# predit data test\n",
    "y_test_pred_nn = nn_model.predict(X_test)\n",
    "\n",
    "# print classification report\n",
    "print('Classification Report Testing Model (Neural Network):')\n",
    "print(classification_report(y_test, y_test_pred_nn))"
   ]
  },
  {
   "cell_type": "code",
   "execution_count": 80,
   "metadata": {},
   "outputs": [
    {
     "name": "stdout",
     "output_type": "stream",
     "text": [
      "Akurasi : 0.8932490562724958\n",
      "Precision : 0.8992028433120446\n",
      "Recall : 0.893600260487315\n",
      "AUC : 0.8936002604873149\n"
     ]
    }
   ],
   "source": [
    "print(\"Akurasi :\", accuracy_score(y_test, y_test_pred_nn))\n",
    "print(\"Precision :\", precision_score(y_test, y_test_pred_nn, average='macro'))\n",
    "print(\"Recall :\", recall_score(y_test, y_test_pred_nn, average='macro'))\n",
    "print(\"AUC :\", roc_auc_score(y_test, y_test_pred_nn))"
   ]
  },
  {
   "cell_type": "markdown",
   "metadata": {
    "jp-MarkdownHeadingCollapsed": true,
    "tags": []
   },
   "source": [
    "## SVM"
   ]
  },
  {
   "cell_type": "code",
   "execution_count": 81,
   "metadata": {},
   "outputs": [],
   "source": [
    "# train the model\n",
    "svm = SVC().fit(X_train, y_train)"
   ]
  },
  {
   "cell_type": "code",
   "execution_count": 82,
   "metadata": {},
   "outputs": [
    {
     "name": "stdout",
     "output_type": "stream",
     "text": [
      "Classification Report Training Model (SVM):\n",
      "              precision    recall  f1-score   support\n",
      "\n",
      "           0       0.81      0.73      0.77     13256\n",
      "           1       0.75      0.83      0.79     13321\n",
      "\n",
      "    accuracy                           0.78     26577\n",
      "   macro avg       0.78      0.78      0.78     26577\n",
      "weighted avg       0.78      0.78      0.78     26577\n",
      "\n"
     ]
    }
   ],
   "source": [
    "# predit data train\n",
    "y_train_pred_svm = svm.predict(X_train)\n",
    "\n",
    "# print classification report\n",
    "print('Classification Report Training Model (SVM):')\n",
    "print(classification_report(y_train, y_train_pred_svm))"
   ]
  },
  {
   "cell_type": "code",
   "execution_count": 83,
   "metadata": {},
   "outputs": [
    {
     "name": "stdout",
     "output_type": "stream",
     "text": [
      "Akurasi : 0.7775143921435828\n",
      "Precision : 0.7802302133639432\n",
      "Recall : 0.7773929691920367\n",
      "AUC : 0.7773929691920367\n"
     ]
    }
   ],
   "source": [
    "print(\"Akurasi :\", accuracy_score(y_train, y_train_pred_svm))\n",
    "print(\"Precision :\", precision_score(y_train, y_train_pred_svm, average='macro'))\n",
    "print(\"Recall :\", recall_score(y_train, y_train_pred_svm, average='macro'))\n",
    "print(\"AUC :\", roc_auc_score(y_train, y_train_pred_svm))"
   ]
  },
  {
   "cell_type": "code",
   "execution_count": 84,
   "metadata": {},
   "outputs": [
    {
     "name": "stdout",
     "output_type": "stream",
     "text": [
      "Classification Report Testing Model (Neural Network):\n",
      "              precision    recall  f1-score   support\n",
      "\n",
      "           0       0.78      0.69      0.73      5728\n",
      "           1       0.72      0.80      0.76      5663\n",
      "\n",
      "    accuracy                           0.75     11391\n",
      "   macro avg       0.75      0.75      0.75     11391\n",
      "weighted avg       0.75      0.75      0.75     11391\n",
      "\n"
     ]
    }
   ],
   "source": [
    "# predit data test\n",
    "y_test_pred_svm = svm.predict(X_test)\n",
    "\n",
    "# print classification report\n",
    "print('Classification Report Testing Model (Neural Network):')\n",
    "print(classification_report(y_test, y_test_pred_svm))"
   ]
  },
  {
   "cell_type": "code",
   "execution_count": 85,
   "metadata": {},
   "outputs": [
    {
     "name": "stdout",
     "output_type": "stream",
     "text": [
      "Akurasi : 0.7463787200421386\n",
      "Precision : 0.7496324109505506\n",
      "Recall : 0.7466965870292016\n",
      "AUC : 0.7466965870292017\n"
     ]
    }
   ],
   "source": [
    "print(\"Akurasi :\", accuracy_score(y_test, y_test_pred_svm))\n",
    "print(\"Precision :\", precision_score(y_test, y_test_pred_svm, average='macro'))\n",
    "print(\"Recall :\", recall_score(y_test, y_test_pred_svm, average='macro'))\n",
    "print(\"AUC :\", roc_auc_score(y_test, y_test_pred_svm))"
   ]
  },
  {
   "cell_type": "markdown",
   "metadata": {
    "jp-MarkdownHeadingCollapsed": true,
    "tags": []
   },
   "source": [
    "## Ada Boost"
   ]
  },
  {
   "cell_type": "code",
   "execution_count": 86,
   "metadata": {},
   "outputs": [],
   "source": [
    "# train the model\n",
    "from sklearn.model_selection import cross_val_score\n",
    "from sklearn.ensemble import AdaBoostClassifier\n",
    "ab = AdaBoostClassifier(n_estimators=500).fit(X_train, y_train)"
   ]
  },
  {
   "cell_type": "code",
   "execution_count": 88,
   "metadata": {},
   "outputs": [
    {
     "name": "stdout",
     "output_type": "stream",
     "text": [
      "Classification Report Training Model (AdaBoost):\n",
      "              precision    recall  f1-score   support\n",
      "\n",
      "           0       0.72      0.71      0.72     13256\n",
      "           1       0.72      0.73      0.72     13321\n",
      "\n",
      "    accuracy                           0.72     26577\n",
      "   macro avg       0.72      0.72      0.72     26577\n",
      "weighted avg       0.72      0.72      0.72     26577\n",
      "\n"
     ]
    }
   ],
   "source": [
    "# predit data train\n",
    "y_train_pred_ab = ab.predict(X_train)\n",
    "# print classification report\n",
    "print('Classification Report Training Model (AdaBoost):')\n",
    "print(classification_report(y_train, y_train_pred_ab))"
   ]
  },
  {
   "cell_type": "code",
   "execution_count": 89,
   "metadata": {},
   "outputs": [
    {
     "name": "stdout",
     "output_type": "stream",
     "text": [
      "Akurasi : 0.7187793957181021\n",
      "Precision : 0.7188091582221071\n",
      "Recall : 0.7187626215308303\n",
      "AUC : 0.7187626215308303\n"
     ]
    }
   ],
   "source": [
    "print(\"Akurasi :\", accuracy_score(y_train, y_train_pred_ab))\n",
    "print(\"Precision :\", precision_score(y_train, y_train_pred_ab, average='macro'))\n",
    "print(\"Recall :\", recall_score(y_train, y_train_pred_ab, average='macro'))\n",
    "print(\"AUC :\", roc_auc_score(y_train, y_train_pred_ab))"
   ]
  },
  {
   "cell_type": "code",
   "execution_count": 90,
   "metadata": {},
   "outputs": [
    {
     "name": "stdout",
     "output_type": "stream",
     "text": [
      "Classification Report Testing Model (AdaBoost):\n",
      "              precision    recall  f1-score   support\n",
      "\n",
      "           0       0.68      0.70      0.69      5728\n",
      "           1       0.69      0.67      0.68      5663\n",
      "\n",
      "    accuracy                           0.68     11391\n",
      "   macro avg       0.68      0.68      0.68     11391\n",
      "weighted avg       0.68      0.68      0.68     11391\n",
      "\n"
     ]
    }
   ],
   "source": [
    "# predit data test\n",
    "y_test_pred_ab = ab.predict(X_test)\n",
    "\n",
    "# print classification report\n",
    "print('Classification Report Testing Model (AdaBoost):')\n",
    "print(classification_report(y_test, y_test_pred_ab))"
   ]
  },
  {
   "cell_type": "code",
   "execution_count": 91,
   "metadata": {},
   "outputs": [
    {
     "name": "stdout",
     "output_type": "stream",
     "text": [
      "Akurasi : 0.684487753489597\n",
      "Precision : 0.6845212435926114\n",
      "Recall : 0.6844273835501842\n",
      "AUC : 0.6844273835501841\n"
     ]
    }
   ],
   "source": [
    "print(\"Akurasi :\", accuracy_score(y_test, y_test_pred_ab))\n",
    "print(\"Precision :\", precision_score(y_test, y_test_pred_ab, average='macro'))\n",
    "print(\"Recall :\", recall_score(y_test, y_test_pred_ab, average='macro'))\n",
    "print(\"AUC :\", roc_auc_score(y_test, y_test_pred_ab))"
   ]
  },
  {
   "cell_type": "markdown",
   "metadata": {
    "jp-MarkdownHeadingCollapsed": true,
    "tags": []
   },
   "source": [
    "## XGBoost"
   ]
  },
  {
   "cell_type": "code",
   "execution_count": 92,
   "metadata": {},
   "outputs": [],
   "source": [
    "from xgboost import XGBClassifier\n",
    "xb = XGBClassifier(n_estimators=50).fit(X_train, y_train)"
   ]
  },
  {
   "cell_type": "code",
   "execution_count": 93,
   "metadata": {},
   "outputs": [
    {
     "name": "stdout",
     "output_type": "stream",
     "text": [
      "Classification Report Training Model (XGBoost):\n",
      "              precision    recall  f1-score   support\n",
      "\n",
      "           0       0.91      0.85      0.88     13256\n",
      "           1       0.86      0.92      0.89     13321\n",
      "\n",
      "    accuracy                           0.88     26577\n",
      "   macro avg       0.89      0.88      0.88     26577\n",
      "weighted avg       0.89      0.88      0.88     26577\n",
      "\n"
     ]
    }
   ],
   "source": [
    "# predit data train\n",
    "y_train_pred_xb = xb.predict(X_train)\n",
    "# print classification report\n",
    "print('Classification Report Training Model (XGBoost):')\n",
    "print(classification_report(y_train, y_train_pred_xb))"
   ]
  },
  {
   "cell_type": "code",
   "execution_count": 94,
   "metadata": {},
   "outputs": [
    {
     "name": "stdout",
     "output_type": "stream",
     "text": [
      "Akurasi : 0.8830944049365993\n",
      "Precision : 0.8852507936748808\n",
      "Recall : 0.8830032454507444\n",
      "AUC : 0.8830032454507445\n"
     ]
    }
   ],
   "source": [
    "print(\"Akurasi :\", accuracy_score(y_train, y_train_pred_xb))\n",
    "print(\"Precision :\", precision_score(y_train, y_train_pred_xb, average='macro'))\n",
    "print(\"Recall :\", recall_score(y_train, y_train_pred_xb, average='macro'))\n",
    "print(\"AUC :\", roc_auc_score(y_train, y_train_pred_xb))"
   ]
  },
  {
   "cell_type": "code",
   "execution_count": 95,
   "metadata": {},
   "outputs": [
    {
     "name": "stdout",
     "output_type": "stream",
     "text": [
      "Classification Report Testing Model (AdaBoost):\n",
      "              precision    recall  f1-score   support\n",
      "\n",
      "           0       0.81      0.79      0.80      5728\n",
      "           1       0.79      0.81      0.80      5663\n",
      "\n",
      "    accuracy                           0.80     11391\n",
      "   macro avg       0.80      0.80      0.80     11391\n",
      "weighted avg       0.80      0.80      0.80     11391\n",
      "\n"
     ]
    }
   ],
   "source": [
    "# predit data test\n",
    "y_test_pred_xb = xb.predict(X_test)\n",
    "\n",
    "# print classification report\n",
    "print('Classification Report Testing Model (AdaBoost):')\n",
    "print(classification_report(y_test, y_test_pred_xb))"
   ]
  },
  {
   "cell_type": "code",
   "execution_count": 96,
   "metadata": {},
   "outputs": [
    {
     "name": "stdout",
     "output_type": "stream",
     "text": [
      "Akurasi : 0.7998419805109297\n",
      "Precision : 0.8000339250269242\n",
      "Recall : 0.7999116089247365\n",
      "AUC : 0.7999116089247363\n"
     ]
    }
   ],
   "source": [
    "print(\"Akurasi :\", accuracy_score(y_test, y_test_pred_xb))\n",
    "print(\"Precision :\", precision_score(y_test, y_test_pred_xb, average='macro'))\n",
    "print(\"Recall :\", recall_score(y_test, y_test_pred_xb, average='macro'))\n",
    "print(\"AUC :\", roc_auc_score(y_test, y_test_pred_xb))"
   ]
  },
  {
   "cell_type": "markdown",
   "metadata": {},
   "source": [
    "## FINAL MODEL & PIPELINE"
   ]
  },
  {
   "cell_type": "code",
   "execution_count": 168,
   "metadata": {},
   "outputs": [],
   "source": [
    "rf = RandomForestClassifier(random_state=42, n_jobs=-1, max_depth=20,min_samples_leaf=5,n_estimators=200, oob_score=True)\n"
   ]
  },
  {
   "cell_type": "code",
   "execution_count": 169,
   "metadata": {
    "tags": []
   },
   "outputs": [],
   "source": [
    "rf_pipe = make_pipeline(onehot_trans, StandardScaler(with_mean=False),rf)"
   ]
  },
  {
   "cell_type": "code",
   "execution_count": 170,
   "metadata": {},
   "outputs": [
    {
     "data": {
      "text/html": [
       "<style>#sk-container-id-48 {color: black;background-color: white;}#sk-container-id-48 pre{padding: 0;}#sk-container-id-48 div.sk-toggleable {background-color: white;}#sk-container-id-48 label.sk-toggleable__label {cursor: pointer;display: block;width: 100%;margin-bottom: 0;padding: 0.3em;box-sizing: border-box;text-align: center;}#sk-container-id-48 label.sk-toggleable__label-arrow:before {content: \"▸\";float: left;margin-right: 0.25em;color: #696969;}#sk-container-id-48 label.sk-toggleable__label-arrow:hover:before {color: black;}#sk-container-id-48 div.sk-estimator:hover label.sk-toggleable__label-arrow:before {color: black;}#sk-container-id-48 div.sk-toggleable__content {max-height: 0;max-width: 0;overflow: hidden;text-align: left;background-color: #f0f8ff;}#sk-container-id-48 div.sk-toggleable__content pre {margin: 0.2em;color: black;border-radius: 0.25em;background-color: #f0f8ff;}#sk-container-id-48 input.sk-toggleable__control:checked~div.sk-toggleable__content {max-height: 200px;max-width: 100%;overflow: auto;}#sk-container-id-48 input.sk-toggleable__control:checked~label.sk-toggleable__label-arrow:before {content: \"▾\";}#sk-container-id-48 div.sk-estimator input.sk-toggleable__control:checked~label.sk-toggleable__label {background-color: #d4ebff;}#sk-container-id-48 div.sk-label input.sk-toggleable__control:checked~label.sk-toggleable__label {background-color: #d4ebff;}#sk-container-id-48 input.sk-hidden--visually {border: 0;clip: rect(1px 1px 1px 1px);clip: rect(1px, 1px, 1px, 1px);height: 1px;margin: -1px;overflow: hidden;padding: 0;position: absolute;width: 1px;}#sk-container-id-48 div.sk-estimator {font-family: monospace;background-color: #f0f8ff;border: 1px dotted black;border-radius: 0.25em;box-sizing: border-box;margin-bottom: 0.5em;}#sk-container-id-48 div.sk-estimator:hover {background-color: #d4ebff;}#sk-container-id-48 div.sk-parallel-item::after {content: \"\";width: 100%;border-bottom: 1px solid gray;flex-grow: 1;}#sk-container-id-48 div.sk-label:hover label.sk-toggleable__label {background-color: #d4ebff;}#sk-container-id-48 div.sk-serial::before {content: \"\";position: absolute;border-left: 1px solid gray;box-sizing: border-box;top: 0;bottom: 0;left: 50%;z-index: 0;}#sk-container-id-48 div.sk-serial {display: flex;flex-direction: column;align-items: center;background-color: white;padding-right: 0.2em;padding-left: 0.2em;position: relative;}#sk-container-id-48 div.sk-item {position: relative;z-index: 1;}#sk-container-id-48 div.sk-parallel {display: flex;align-items: stretch;justify-content: center;background-color: white;position: relative;}#sk-container-id-48 div.sk-item::before, #sk-container-id-48 div.sk-parallel-item::before {content: \"\";position: absolute;border-left: 1px solid gray;box-sizing: border-box;top: 0;bottom: 0;left: 50%;z-index: -1;}#sk-container-id-48 div.sk-parallel-item {display: flex;flex-direction: column;z-index: 1;position: relative;background-color: white;}#sk-container-id-48 div.sk-parallel-item:first-child::after {align-self: flex-end;width: 50%;}#sk-container-id-48 div.sk-parallel-item:last-child::after {align-self: flex-start;width: 50%;}#sk-container-id-48 div.sk-parallel-item:only-child::after {width: 0;}#sk-container-id-48 div.sk-dashed-wrapped {border: 1px dashed gray;margin: 0 0.4em 0.5em 0.4em;box-sizing: border-box;padding-bottom: 0.4em;background-color: white;}#sk-container-id-48 div.sk-label label {font-family: monospace;font-weight: bold;display: inline-block;line-height: 1.2em;}#sk-container-id-48 div.sk-label-container {text-align: center;}#sk-container-id-48 div.sk-container {/* jupyter's `normalize.less` sets `[hidden] { display: none; }` but bootstrap.min.css set `[hidden] { display: none !important; }` so we also need the `!important` here to be able to override the default hidden behavior on the sphinx rendered scikit-learn.org. See: https://github.com/scikit-learn/scikit-learn/issues/21755 */display: inline-block !important;position: relative;}#sk-container-id-48 div.sk-text-repr-fallback {display: none;}</style><div id=\"sk-container-id-48\" class=\"sk-top-container\"><div class=\"sk-text-repr-fallback\"><pre>Pipeline(steps=[(&#x27;columntransformer&#x27;,\n",
       "                 ColumnTransformer(remainder=&#x27;passthrough&#x27;,\n",
       "                                   transformers=[(&#x27;onehotencoder&#x27;,\n",
       "                                                  OneHotEncoder(categories=[array([&#x27;Academic degree&#x27;, &#x27;Higher education&#x27;, &#x27;Incomplete higher&#x27;,\n",
       "       &#x27;Lower secondary&#x27;, &#x27;Secondary / secondary special&#x27;], dtype=object),\n",
       "                                                                            array([&#x27;F&#x27;, &#x27;M&#x27;], dtype=object),\n",
       "                                                                            array([&#x27;Commercial associate&#x27;, &#x27;State servant&#x27;, &#x27;Working&#x27;], dtype=o...\n",
       "       &#x27;Transport: type 4&#x27;, &#x27;University&#x27;], dtype=object),\n",
       "                                                                            array([&#x27;N&#x27;, &#x27;Y&#x27;], dtype=object)]),\n",
       "                                                  [&#x27;NAME_EDUCATION_TYPE&#x27;,\n",
       "                                                   &#x27;CODE_GENDER&#x27;,\n",
       "                                                   &#x27;NAME_INCOME_TYPE&#x27;,\n",
       "                                                   &#x27;OCCUPATION_TYPE&#x27;,\n",
       "                                                   &#x27;ORGANIZATION_TYPE&#x27;,\n",
       "                                                   &#x27;FLAG_OWN_CAR&#x27;])])),\n",
       "                (&#x27;standardscaler&#x27;, StandardScaler(with_mean=False)),\n",
       "                (&#x27;randomforestclassifier&#x27;,\n",
       "                 RandomForestClassifier(max_depth=20, min_samples_leaf=5,\n",
       "                                        n_estimators=200, n_jobs=-1,\n",
       "                                        oob_score=True, random_state=42))])</pre><b>In a Jupyter environment, please rerun this cell to show the HTML representation or trust the notebook. <br />On GitHub, the HTML representation is unable to render, please try loading this page with nbviewer.org.</b></div><div class=\"sk-container\" hidden><div class=\"sk-item sk-dashed-wrapped\"><div class=\"sk-label-container\"><div class=\"sk-label sk-toggleable\"><input class=\"sk-toggleable__control sk-hidden--visually\" id=\"sk-estimator-id-314\" type=\"checkbox\" ><label for=\"sk-estimator-id-314\" class=\"sk-toggleable__label sk-toggleable__label-arrow\">Pipeline</label><div class=\"sk-toggleable__content\"><pre>Pipeline(steps=[(&#x27;columntransformer&#x27;,\n",
       "                 ColumnTransformer(remainder=&#x27;passthrough&#x27;,\n",
       "                                   transformers=[(&#x27;onehotencoder&#x27;,\n",
       "                                                  OneHotEncoder(categories=[array([&#x27;Academic degree&#x27;, &#x27;Higher education&#x27;, &#x27;Incomplete higher&#x27;,\n",
       "       &#x27;Lower secondary&#x27;, &#x27;Secondary / secondary special&#x27;], dtype=object),\n",
       "                                                                            array([&#x27;F&#x27;, &#x27;M&#x27;], dtype=object),\n",
       "                                                                            array([&#x27;Commercial associate&#x27;, &#x27;State servant&#x27;, &#x27;Working&#x27;], dtype=o...\n",
       "       &#x27;Transport: type 4&#x27;, &#x27;University&#x27;], dtype=object),\n",
       "                                                                            array([&#x27;N&#x27;, &#x27;Y&#x27;], dtype=object)]),\n",
       "                                                  [&#x27;NAME_EDUCATION_TYPE&#x27;,\n",
       "                                                   &#x27;CODE_GENDER&#x27;,\n",
       "                                                   &#x27;NAME_INCOME_TYPE&#x27;,\n",
       "                                                   &#x27;OCCUPATION_TYPE&#x27;,\n",
       "                                                   &#x27;ORGANIZATION_TYPE&#x27;,\n",
       "                                                   &#x27;FLAG_OWN_CAR&#x27;])])),\n",
       "                (&#x27;standardscaler&#x27;, StandardScaler(with_mean=False)),\n",
       "                (&#x27;randomforestclassifier&#x27;,\n",
       "                 RandomForestClassifier(max_depth=20, min_samples_leaf=5,\n",
       "                                        n_estimators=200, n_jobs=-1,\n",
       "                                        oob_score=True, random_state=42))])</pre></div></div></div><div class=\"sk-serial\"><div class=\"sk-item sk-dashed-wrapped\"><div class=\"sk-label-container\"><div class=\"sk-label sk-toggleable\"><input class=\"sk-toggleable__control sk-hidden--visually\" id=\"sk-estimator-id-315\" type=\"checkbox\" ><label for=\"sk-estimator-id-315\" class=\"sk-toggleable__label sk-toggleable__label-arrow\">columntransformer: ColumnTransformer</label><div class=\"sk-toggleable__content\"><pre>ColumnTransformer(remainder=&#x27;passthrough&#x27;,\n",
       "                  transformers=[(&#x27;onehotencoder&#x27;,\n",
       "                                 OneHotEncoder(categories=[array([&#x27;Academic degree&#x27;, &#x27;Higher education&#x27;, &#x27;Incomplete higher&#x27;,\n",
       "       &#x27;Lower secondary&#x27;, &#x27;Secondary / secondary special&#x27;], dtype=object),\n",
       "                                                           array([&#x27;F&#x27;, &#x27;M&#x27;], dtype=object),\n",
       "                                                           array([&#x27;Commercial associate&#x27;, &#x27;State servant&#x27;, &#x27;Working&#x27;], dtype=object),\n",
       "                                                           array([&#x27;Accountants&#x27;, &#x27;Cleaning...\n",
       "       &#x27;Security Ministries&#x27;, &#x27;Self-employed&#x27;, &#x27;Services&#x27;, &#x27;Telecom&#x27;,\n",
       "       &#x27;Trade: type 1&#x27;, &#x27;Trade: type 2&#x27;, &#x27;Trade: type 3&#x27;, &#x27;Trade: type 4&#x27;,\n",
       "       &#x27;Trade: type 5&#x27;, &#x27;Trade: type 6&#x27;, &#x27;Trade: type 7&#x27;,\n",
       "       &#x27;Transport: type 1&#x27;, &#x27;Transport: type 2&#x27;, &#x27;Transport: type 3&#x27;,\n",
       "       &#x27;Transport: type 4&#x27;, &#x27;University&#x27;], dtype=object),\n",
       "                                                           array([&#x27;N&#x27;, &#x27;Y&#x27;], dtype=object)]),\n",
       "                                 [&#x27;NAME_EDUCATION_TYPE&#x27;, &#x27;CODE_GENDER&#x27;,\n",
       "                                  &#x27;NAME_INCOME_TYPE&#x27;, &#x27;OCCUPATION_TYPE&#x27;,\n",
       "                                  &#x27;ORGANIZATION_TYPE&#x27;, &#x27;FLAG_OWN_CAR&#x27;])])</pre></div></div></div><div class=\"sk-parallel\"><div class=\"sk-parallel-item\"><div class=\"sk-item\"><div class=\"sk-label-container\"><div class=\"sk-label sk-toggleable\"><input class=\"sk-toggleable__control sk-hidden--visually\" id=\"sk-estimator-id-316\" type=\"checkbox\" ><label for=\"sk-estimator-id-316\" class=\"sk-toggleable__label sk-toggleable__label-arrow\">onehotencoder</label><div class=\"sk-toggleable__content\"><pre>[&#x27;NAME_EDUCATION_TYPE&#x27;, &#x27;CODE_GENDER&#x27;, &#x27;NAME_INCOME_TYPE&#x27;, &#x27;OCCUPATION_TYPE&#x27;, &#x27;ORGANIZATION_TYPE&#x27;, &#x27;FLAG_OWN_CAR&#x27;]</pre></div></div></div><div class=\"sk-serial\"><div class=\"sk-item\"><div class=\"sk-estimator sk-toggleable\"><input class=\"sk-toggleable__control sk-hidden--visually\" id=\"sk-estimator-id-317\" type=\"checkbox\" ><label for=\"sk-estimator-id-317\" class=\"sk-toggleable__label sk-toggleable__label-arrow\">OneHotEncoder</label><div class=\"sk-toggleable__content\"><pre>OneHotEncoder(categories=[array([&#x27;Academic degree&#x27;, &#x27;Higher education&#x27;, &#x27;Incomplete higher&#x27;,\n",
       "       &#x27;Lower secondary&#x27;, &#x27;Secondary / secondary special&#x27;], dtype=object),\n",
       "                          array([&#x27;F&#x27;, &#x27;M&#x27;], dtype=object),\n",
       "                          array([&#x27;Commercial associate&#x27;, &#x27;State servant&#x27;, &#x27;Working&#x27;], dtype=object),\n",
       "                          array([&#x27;Accountants&#x27;, &#x27;Cleaning staff&#x27;, &#x27;Cooking staff&#x27;, &#x27;Core staff&#x27;,\n",
       "       &#x27;Drivers&#x27;, &#x27;HR staff&#x27;, &#x27;High skill tech staff...\n",
       "       &#x27;Military&#x27;, &#x27;Mobile&#x27;, &#x27;Other&#x27;, &#x27;Police&#x27;, &#x27;Postal&#x27;, &#x27;Realtor&#x27;,\n",
       "       &#x27;Religion&#x27;, &#x27;Restaurant&#x27;, &#x27;School&#x27;, &#x27;Security&#x27;,\n",
       "       &#x27;Security Ministries&#x27;, &#x27;Self-employed&#x27;, &#x27;Services&#x27;, &#x27;Telecom&#x27;,\n",
       "       &#x27;Trade: type 1&#x27;, &#x27;Trade: type 2&#x27;, &#x27;Trade: type 3&#x27;, &#x27;Trade: type 4&#x27;,\n",
       "       &#x27;Trade: type 5&#x27;, &#x27;Trade: type 6&#x27;, &#x27;Trade: type 7&#x27;,\n",
       "       &#x27;Transport: type 1&#x27;, &#x27;Transport: type 2&#x27;, &#x27;Transport: type 3&#x27;,\n",
       "       &#x27;Transport: type 4&#x27;, &#x27;University&#x27;], dtype=object),\n",
       "                          array([&#x27;N&#x27;, &#x27;Y&#x27;], dtype=object)])</pre></div></div></div></div></div></div><div class=\"sk-parallel-item\"><div class=\"sk-item\"><div class=\"sk-label-container\"><div class=\"sk-label sk-toggleable\"><input class=\"sk-toggleable__control sk-hidden--visually\" id=\"sk-estimator-id-318\" type=\"checkbox\" ><label for=\"sk-estimator-id-318\" class=\"sk-toggleable__label sk-toggleable__label-arrow\">remainder</label><div class=\"sk-toggleable__content\"><pre>[&#x27;EXT_SOURCE_2&#x27;, &#x27;EXT_SOURCE_3&#x27;, &#x27;YEARS_LAST_PHONE_CHANGE&#x27;, &#x27;REGION_RATING_CLIENT_W_CITY&#x27;, &#x27;YEARS_EMPLOYED&#x27;, &#x27;REGION_RATING_CLIENT&#x27;, &#x27;AMT_GOODS_PRICE&#x27;, &#x27;AMT_BALANCE_MEAN&#x27;, &#x27;AMT_CREDIT&#x27;, &#x27;DAYS_BIRTH&#x27;, &#x27;FLOORSMAX_MODE&#x27;]</pre></div></div></div><div class=\"sk-serial\"><div class=\"sk-item\"><div class=\"sk-estimator sk-toggleable\"><input class=\"sk-toggleable__control sk-hidden--visually\" id=\"sk-estimator-id-319\" type=\"checkbox\" ><label for=\"sk-estimator-id-319\" class=\"sk-toggleable__label sk-toggleable__label-arrow\">passthrough</label><div class=\"sk-toggleable__content\"><pre>passthrough</pre></div></div></div></div></div></div></div></div><div class=\"sk-item\"><div class=\"sk-estimator sk-toggleable\"><input class=\"sk-toggleable__control sk-hidden--visually\" id=\"sk-estimator-id-320\" type=\"checkbox\" ><label for=\"sk-estimator-id-320\" class=\"sk-toggleable__label sk-toggleable__label-arrow\">StandardScaler</label><div class=\"sk-toggleable__content\"><pre>StandardScaler(with_mean=False)</pre></div></div></div><div class=\"sk-item\"><div class=\"sk-estimator sk-toggleable\"><input class=\"sk-toggleable__control sk-hidden--visually\" id=\"sk-estimator-id-321\" type=\"checkbox\" ><label for=\"sk-estimator-id-321\" class=\"sk-toggleable__label sk-toggleable__label-arrow\">RandomForestClassifier</label><div class=\"sk-toggleable__content\"><pre>RandomForestClassifier(max_depth=20, min_samples_leaf=5, n_estimators=200,\n",
       "                       n_jobs=-1, oob_score=True, random_state=42)</pre></div></div></div></div></div></div></div>"
      ],
      "text/plain": [
       "Pipeline(steps=[('columntransformer',\n",
       "                 ColumnTransformer(remainder='passthrough',\n",
       "                                   transformers=[('onehotencoder',\n",
       "                                                  OneHotEncoder(categories=[array(['Academic degree', 'Higher education', 'Incomplete higher',\n",
       "       'Lower secondary', 'Secondary / secondary special'], dtype=object),\n",
       "                                                                            array(['F', 'M'], dtype=object),\n",
       "                                                                            array(['Commercial associate', 'State servant', 'Working'], dtype=o...\n",
       "       'Transport: type 4', 'University'], dtype=object),\n",
       "                                                                            array(['N', 'Y'], dtype=object)]),\n",
       "                                                  ['NAME_EDUCATION_TYPE',\n",
       "                                                   'CODE_GENDER',\n",
       "                                                   'NAME_INCOME_TYPE',\n",
       "                                                   'OCCUPATION_TYPE',\n",
       "                                                   'ORGANIZATION_TYPE',\n",
       "                                                   'FLAG_OWN_CAR'])])),\n",
       "                ('standardscaler', StandardScaler(with_mean=False)),\n",
       "                ('randomforestclassifier',\n",
       "                 RandomForestClassifier(max_depth=20, min_samples_leaf=5,\n",
       "                                        n_estimators=200, n_jobs=-1,\n",
       "                                        oob_score=True, random_state=42))])"
      ]
     },
     "execution_count": 170,
     "metadata": {},
     "output_type": "execute_result"
    }
   ],
   "source": [
    "rf_pipe.fit(X_train, y_train)"
   ]
  },
  {
   "cell_type": "code",
   "execution_count": 177,
   "metadata": {},
   "outputs": [],
   "source": [
    "import joblib\n"
   ]
  },
  {
   "cell_type": "code",
   "execution_count": 179,
   "metadata": {},
   "outputs": [],
   "source": [
    "joblib.dump(rf_pipe, open(\"rf_model.pkl\", \"wb\"))"
   ]
  },
  {
   "cell_type": "code",
   "execution_count": 180,
   "metadata": {},
   "outputs": [],
   "source": [
    "    df = pd.DataFrame(columns=['EXT_SOURCE_2',\n",
    "                            'EXT_SOURCE_3', \n",
    "                            'YEARS_LAST_PHONE_CHANGE',\n",
    "                            'REGION_RATING_CLIENT_W_CITY', \n",
    "                            'YEARS_EMPLOYED',\n",
    "                            'REGION_RATING_CLIENT',\n",
    "                            'AMT_GOODS_PRICE',\n",
    "                            'AMT_BALANCE_MEAN',\n",
    "                            'AMT_CREDIT',\n",
    "                            'DAYS_BIRTH',\n",
    "                            'FLOORSMAX_MODE',\n",
    "                            'NAME_EDUCATION_TYPE',\n",
    "                            'CODE_GENDER',\n",
    "                            'NAME_INCOME_TYPE',\n",
    "                            'OCCUPATION_TYPE',\n",
    "                            'ORGANIZATION_TYPE',\n",
    "                            'FLAG_OWN_CAR'],\n",
    "                 data=np.array([0.6865047975453018,0.39449540531239935,2.7479452054794513,2,7.791780821917808,2,450000.0,16901.607272727277,450000.0,12009,0.1667,\"Higher education\",\"M\",\"Commercial associate\",\"Laborers\",\"Business Entity Type 3\",\"N\"]).reshape(1, 17))"
   ]
  },
  {
   "cell_type": "code",
   "execution_count": 182,
   "metadata": {},
   "outputs": [
    {
     "data": {
      "text/plain": [
       "array([0], dtype=int64)"
      ]
     },
     "execution_count": 182,
     "metadata": {},
     "output_type": "execute_result"
    }
   ],
   "source": [
    "rf_pipe.predict(df)"
   ]
  }
 ],
 "metadata": {
  "kernelspec": {
   "display_name": "Python 3 (ipykernel)",
   "language": "python",
   "name": "python3"
  },
  "language_info": {
   "codemirror_mode": {
    "name": "ipython",
    "version": 3
   },
   "file_extension": ".py",
   "mimetype": "text/x-python",
   "name": "python",
   "nbconvert_exporter": "python",
   "pygments_lexer": "ipython3",
   "version": "3.10.8"
  }
 },
 "nbformat": 4,
 "nbformat_minor": 4
}
